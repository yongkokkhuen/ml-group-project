{
 "cells": [
  {
   "cell_type": "markdown",
   "id": "603aa6b4",
   "metadata": {},
   "source": [
    "# Multinomial Naive Bayes\n",
    "\n",
    "Multinomial Naive Bayes is favored to use on data that is multinomial distributed. It is widely used in text classification in NLP.  Each event in text classification constitutes the presence of a word in a document.\n",
    "\n",
    "Reference: https://www.analyticssteps.com/blogs/what-naive-bayes-algorithm-machine-learning"
   ]
  },
  {
   "cell_type": "markdown",
   "id": "2451ab7a",
   "metadata": {},
   "source": [
    "### Imports"
   ]
  },
  {
   "cell_type": "code",
   "execution_count": 2,
   "id": "a2778a61",
   "metadata": {},
   "outputs": [],
   "source": [
    "import pandas as pd\n",
    "import matplotlib.pyplot as plt\n",
    "\n",
    "from sklearn.feature_extraction.text import TfidfVectorizer\n",
    "from sklearn.metrics import classification_report, ConfusionMatrixDisplay\n",
    "from sklearn.model_selection import GridSearchCV, train_test_split\n",
    "from sklearn.naive_bayes import MultinomialNB\n",
    "from sklearn.pipeline import Pipeline"
   ]
  },
  {
   "cell_type": "markdown",
   "id": "2a62f7ca",
   "metadata": {},
   "source": [
    "### Load Data"
   ]
  },
  {
   "cell_type": "code",
   "execution_count": 3,
   "id": "aa3a6384",
   "metadata": {},
   "outputs": [
    {
     "data": {
      "text/html": [
       "<div>\n",
       "<style scoped>\n",
       "    .dataframe tbody tr th:only-of-type {\n",
       "        vertical-align: middle;\n",
       "    }\n",
       "\n",
       "    .dataframe tbody tr th {\n",
       "        vertical-align: top;\n",
       "    }\n",
       "\n",
       "    .dataframe thead th {\n",
       "        text-align: right;\n",
       "    }\n",
       "</style>\n",
       "<table border=\"1\" class=\"dataframe\">\n",
       "  <thead>\n",
       "    <tr style=\"text-align: right;\">\n",
       "      <th></th>\n",
       "      <th>text</th>\n",
       "      <th>label</th>\n",
       "    </tr>\n",
       "  </thead>\n",
       "  <tbody>\n",
       "    <tr>\n",
       "      <th>0</th>\n",
       "      <td>bought fender telecaster salesperson told orig...</td>\n",
       "      <td>negative</td>\n",
       "    </tr>\n",
       "    <tr>\n",
       "      <th>1</th>\n",
       "      <td>visit son restaurant desert home food authenti...</td>\n",
       "      <td>positive</td>\n",
       "    </tr>\n",
       "    <tr>\n",
       "      <th>2</th>\n",
       "      <td>danielle great job listened cut hair way reque...</td>\n",
       "      <td>positive</td>\n",
       "    </tr>\n",
       "    <tr>\n",
       "      <th>3</th>\n",
       "      <td>saw lot roaches bathroom woke bed large dark s...</td>\n",
       "      <td>negative</td>\n",
       "    </tr>\n",
       "    <tr>\n",
       "      <th>4</th>\n",
       "      <td>ordered pork fried rice beef chow mei fun teri...</td>\n",
       "      <td>negative</td>\n",
       "    </tr>\n",
       "  </tbody>\n",
       "</table>\n",
       "</div>"
      ],
      "text/plain": [
       "                                                text     label\n",
       "0  bought fender telecaster salesperson told orig...  negative\n",
       "1  visit son restaurant desert home food authenti...  positive\n",
       "2  danielle great job listened cut hair way reque...  positive\n",
       "3  saw lot roaches bathroom woke bed large dark s...  negative\n",
       "4  ordered pork fried rice beef chow mei fun teri...  negative"
      ]
     },
     "execution_count": 3,
     "metadata": {},
     "output_type": "execute_result"
    }
   ],
   "source": [
    "# stop words removed\n",
    "df = pd.read_csv(\"../data/review_2022_clean.csv\")\n",
    "df.head()"
   ]
  },
  {
   "cell_type": "code",
   "execution_count": 4,
   "id": "d75a92a0",
   "metadata": {},
   "outputs": [
    {
     "data": {
      "text/html": [
       "<div>\n",
       "<style scoped>\n",
       "    .dataframe tbody tr th:only-of-type {\n",
       "        vertical-align: middle;\n",
       "    }\n",
       "\n",
       "    .dataframe tbody tr th {\n",
       "        vertical-align: top;\n",
       "    }\n",
       "\n",
       "    .dataframe thead th {\n",
       "        text-align: right;\n",
       "    }\n",
       "</style>\n",
       "<table border=\"1\" class=\"dataframe\">\n",
       "  <thead>\n",
       "    <tr style=\"text-align: right;\">\n",
       "      <th></th>\n",
       "      <th>text</th>\n",
       "      <th>label</th>\n",
       "    </tr>\n",
       "  </thead>\n",
       "  <tbody>\n",
       "    <tr>\n",
       "      <th>0</th>\n",
       "      <td>i bought a fender telecaster that the salesper...</td>\n",
       "      <td>negative</td>\n",
       "    </tr>\n",
       "    <tr>\n",
       "      <th>1</th>\n",
       "      <td>this is our go to for take out when i visit my...</td>\n",
       "      <td>positive</td>\n",
       "    </tr>\n",
       "    <tr>\n",
       "      <th>2</th>\n",
       "      <td>danielle did a great job she listened and cut ...</td>\n",
       "      <td>positive</td>\n",
       "    </tr>\n",
       "    <tr>\n",
       "      <th>3</th>\n",
       "      <td>we saw a lot of roaches in the bathroom when w...</td>\n",
       "      <td>negative</td>\n",
       "    </tr>\n",
       "    <tr>\n",
       "      <th>4</th>\n",
       "      <td>we ordered pork fried rice and beef chow mei f...</td>\n",
       "      <td>negative</td>\n",
       "    </tr>\n",
       "  </tbody>\n",
       "</table>\n",
       "</div>"
      ],
      "text/plain": [
       "                                                text     label\n",
       "0  i bought a fender telecaster that the salesper...  negative\n",
       "1  this is our go to for take out when i visit my...  positive\n",
       "2  danielle did a great job she listened and cut ...  positive\n",
       "3  we saw a lot of roaches in the bathroom when w...  negative\n",
       "4  we ordered pork fried rice and beef chow mei f...  negative"
      ]
     },
     "execution_count": 4,
     "metadata": {},
     "output_type": "execute_result"
    }
   ],
   "source": [
    "df_sw = pd.read_csv(\"../data/review_2022_clean_sw.csv\")\n",
    "df_sw.head()"
   ]
  },
  {
   "cell_type": "markdown",
   "id": "0cb44d23",
   "metadata": {},
   "source": [
    "### Check Imbalanced Data"
   ]
  },
  {
   "cell_type": "code",
   "execution_count": 4,
   "id": "75a2661a",
   "metadata": {},
   "outputs": [
    {
     "data": {
      "text/plain": [
       "positive    20916\n",
       "negative     8566\n",
       "neutral      2183\n",
       "Name: label, dtype: int64"
      ]
     },
     "execution_count": 4,
     "metadata": {},
     "output_type": "execute_result"
    }
   ],
   "source": [
    "pd.DataFrame(df).label.value_counts()"
   ]
  },
  {
   "cell_type": "code",
   "execution_count": 5,
   "id": "a4803814",
   "metadata": {},
   "outputs": [
    {
     "name": "stdout",
     "output_type": "stream",
     "text": [
      "Imbalanced data in dataset:\n",
      "Postive - 66.05%\n",
      "Negative - 27.05%\n",
      "Neutral - 6.89%\n"
     ]
    }
   ],
   "source": [
    "print(\"Imbalanced data in dataset:\")\n",
    "total = df.shape[0]\n",
    "value_counts = pd.DataFrame(df).label.value_counts()\n",
    "positive_percent = value_counts[\"positive\"]/total*100\n",
    "negative_percent = value_counts[\"negative\"]/total*100\n",
    "neutral_percent = value_counts[\"neutral\"]/total*100\n",
    "\n",
    "print(\"Postive - {:04.2f}\".format(positive_percent)+'%')\n",
    "print(\"Negative - {:04.2f}\".format(negative_percent)+'%')\n",
    "print(\"Neutral - {:04.2f}\".format(neutral_percent)+'%')"
   ]
  },
  {
   "cell_type": "code",
   "execution_count": 6,
   "id": "d0ca2325",
   "metadata": {},
   "outputs": [
    {
     "data": {
      "text/plain": [
       "<AxesSubplot:title={'center':'Class distribution'}, xlabel='label'>"
      ]
     },
     "execution_count": 6,
     "metadata": {},
     "output_type": "execute_result"
    },
    {
     "data": {
      "image/png": "[encoded data removed]",
      "text/plain": [
       "<Figure size 432x288 with 1 Axes>"
      ]
     },
     "metadata": {
      "needs_background": "light"
     },
     "output_type": "display_data"
    }
   ],
   "source": [
    "df.pivot_table(index='label', aggfunc='size').plot(kind='bar', title = 'Class distribution')"
   ]
  },
  {
   "cell_type": "markdown",
   "id": "272d965b",
   "metadata": {},
   "source": [
    "### Train-Test Split"
   ]
  },
  {
   "cell_type": "code",
   "execution_count": 20,
   "id": "94b956f5",
   "metadata": {},
   "outputs": [],
   "source": [
    "def split(stop_words=False):\n",
    "  if stop_words:\n",
    "    X = df_sw[\"text\"]\n",
    "    y = df_sw[\"label\"]\n",
    "  else:\n",
    "    X = df[\"text\"]\n",
    "    y = df[\"label\"]\n",
    "  return train_test_split(X, y, test_size=0.2, random_state=42)"
   ]
  },
  {
   "cell_type": "code",
   "execution_count": 21,
   "id": "0143a02e",
   "metadata": {},
   "outputs": [],
   "source": [
    "X_train, X_test, y_train, y_test = split()"
   ]
  },
  {
   "cell_type": "code",
   "execution_count": 22,
   "id": "c9131d8a",
   "metadata": {},
   "outputs": [],
   "source": [
    "X_train_sw, X_test_sw, y_train_sw, y_test_sw = split(stop_words=True)"
   ]
  },
  {
   "cell_type": "code",
   "execution_count": 32,
   "id": "16d29f2f",
   "metadata": {},
   "outputs": [
    {
     "data": {
      "text/plain": [
       "<AxesSubplot:title={'center':'Class distribution'}, xlabel='label'>"
      ]
     },
     "execution_count": 32,
     "metadata": {},
     "output_type": "execute_result"
    },
    {
     "data": {
      "image/png": "[encoded data removed]",
      "text/plain": [
       "<Figure size 432x288 with 1 Axes>"
      ]
     },
     "metadata": {
      "needs_background": "light"
     },
     "output_type": "display_data"
    }
   ],
   "source": [
    "# check class distribution in train set\n",
    "pd.DataFrame(y_train_sw).pivot_table(index='label', aggfunc='size').plot(kind='bar', title = 'Class distribution')"
   ]
  },
  {
   "cell_type": "code",
   "execution_count": 34,
   "id": "db5d568c",
   "metadata": {},
   "outputs": [
    {
     "data": {
      "text/plain": [
       "<AxesSubplot:title={'center':'Class distribution'}, xlabel='label'>"
      ]
     },
     "execution_count": 34,
     "metadata": {},
     "output_type": "execute_result"
    },
    {
     "data": {
      "image/png": "[encoded data removed]",
      "text/plain": [
       "<Figure size 432x288 with 1 Axes>"
      ]
     },
     "metadata": {
      "needs_background": "light"
     },
     "output_type": "display_data"
    }
   ],
   "source": [
    "# check class distribution in test set\n",
    "pd.DataFrame(y_test_sw).pivot_table(index='label', aggfunc='size').plot(kind='bar', title = 'Class distribution')"
   ]
  },
  {
   "cell_type": "markdown",
   "id": "cbdffe19",
   "metadata": {},
   "source": [
    "### Modelling"
   ]
  },
  {
   "cell_type": "code",
   "execution_count": 10,
   "id": "4fef8cc5",
   "metadata": {},
   "outputs": [],
   "source": [
    "def create_grid_search(ngram_range):\n",
    "  tfidf = TfidfVectorizer(ngram_range=ngram_range)\n",
    "  pipe = Pipeline(steps=[(\"tfidf\", tfidf), (\"mnb\", MultinomialNB())])\n",
    "  \n",
    "  # alpha -> Setting α=1 is called Laplace smoothing, while α<1 is called Lidstone smoothing. 0 for no smoothing\n",
    "  # fit_prior -> default = True, Whether to learn class prior probabilities or not. If false, a uniform prior will be used.\n",
    "  # class_prior -> default = None, Prior probabilities of the classes. If specified, the priors are not adjusted according to the data.\n",
    "  param_grid = {\n",
    "    'mnb__alpha': [1, 0.1, 0.001],\n",
    "    'mnb__fit_prior': [True, False]\n",
    "    #'mnb__class_prior': [None]\n",
    "    }\n",
    "    \n",
    "  search = GridSearchCV(pipe, param_grid, cv=10, scoring=\"balanced_accuracy\", n_jobs=-1)\n",
    "  return search"
   ]
  },
  {
   "cell_type": "code",
   "execution_count": 11,
   "id": "9a3ad4c4",
   "metadata": {},
   "outputs": [],
   "source": [
    "def train_evaluate(ngram_range, X_train, X_test, y_train, y_test, df_result, preprocessing, metric):\n",
    "  search = create_grid_search(ngram_range)\n",
    "  search.fit(X_train, y_train)\n",
    "\n",
    "  print(\"Best Parameters:\")\n",
    "  print(search.best_params_)\n",
    "\n",
    "  y_pred = search.predict(X_test)\n",
    "\n",
    "  print(\"Classification Report:\")\n",
    "  print(classification_report(y_test, y_pred))\n",
    "\n",
    "  print(\"Confusion Matrix:\")\n",
    "  ConfusionMatrixDisplay.from_predictions(y_test, y_pred)\n",
    "  plt.show()\n",
    "    \n",
    "  report = classification_report(y_test,y_pred,output_dict=True)\n",
    "  result = pd.DataFrame(\n",
    "    {\n",
    "        \"preprocessing\":[preprocessing],\n",
    "        f\"{metric}_negative\":report[\"negative\"][f\"{metric}\"],\n",
    "        f\"{metric}_neutral\":report[\"neutral\"][f\"{metric}\"],\n",
    "        f\"{metric}_positive\":report[\"positive\"][f\"{metric}\"],\n",
    "        f\"{metric}_macro_avg\":report[\"macro avg\"][f\"{metric}\"],\n",
    "        f\"{metric}_weighted_avg\":report[\"weighted avg\"][f\"{metric}\"],\n",
    "    }\n",
    "    )\n",
    "\n",
    "  df_result.append(result)\n",
    "\n",
    "  return search, df_result"
   ]
  },
  {
   "cell_type": "markdown",
   "id": "7ce95726",
   "metadata": {},
   "source": [
    "### Comparison of MultinomialNB with different preprocessing methods"
   ]
  },
  {
   "cell_type": "code",
   "execution_count": 24,
   "id": "29b3b3f8",
   "metadata": {},
   "outputs": [],
   "source": [
    "df_result = []\n",
    "metric = \"f1-score\""
   ]
  },
  {
   "cell_type": "markdown",
   "id": "ff6b68f7",
   "metadata": {},
   "source": [
    "##### Unigrams"
   ]
  },
  {
   "cell_type": "code",
   "execution_count": 13,
   "id": "c0f149ba",
   "metadata": {},
   "outputs": [
    {
     "name": "stdout",
     "output_type": "stream",
     "text": [
      "Best Parameters:\n",
      "{'mnb__alpha': 0.1, 'mnb__fit_prior': False}\n",
      "Classification Report:\n",
      "              precision    recall  f1-score   support\n",
      "\n",
      "    negative       0.78      0.83      0.80      1770\n",
      "     neutral       0.26      0.33      0.29       428\n",
      "    positive       0.93      0.88      0.91      4135\n",
      "\n",
      "    accuracy                           0.83      6333\n",
      "   macro avg       0.66      0.68      0.67      6333\n",
      "weighted avg       0.84      0.83      0.84      6333\n",
      "\n",
      "Confusion Matrix:\n"
     ]
    },
    {
     "data": {
      "image/png": "[encoded data removed]",
      "text/plain": [
       "<Figure size 432x288 with 2 Axes>"
      ]
     },
     "metadata": {
      "needs_background": "light"
     },
     "output_type": "display_data"
    }
   ],
   "source": [
    "model_uni = train_evaluate((1, 1), X_train, X_test, y_train, y_test, df_result, \"unigrams\", metric)"
   ]
  },
  {
   "cell_type": "markdown",
   "id": "9cff6165",
   "metadata": {},
   "source": [
    "##### Unigrams + Stop Words"
   ]
  },
  {
   "cell_type": "code",
   "execution_count": 14,
   "id": "0372d143",
   "metadata": {},
   "outputs": [
    {
     "name": "stdout",
     "output_type": "stream",
     "text": [
      "Best Parameters:\n",
      "{'mnb__alpha': 0.1, 'mnb__fit_prior': False}\n",
      "Classification Report:\n",
      "              precision    recall  f1-score   support\n",
      "\n",
      "    negative       0.78      0.85      0.81      1770\n",
      "     neutral       0.29      0.32      0.30       428\n",
      "    positive       0.94      0.89      0.91      4135\n",
      "\n",
      "    accuracy                           0.84      6333\n",
      "   macro avg       0.67      0.69      0.68      6333\n",
      "weighted avg       0.85      0.84      0.84      6333\n",
      "\n",
      "Confusion Matrix:\n"
     ]
    },
    {
     "data": {
      "image/png": "[encoded data removed]",
      "text/plain": [
       "<Figure size 432x288 with 2 Axes>"
      ]
     },
     "metadata": {
      "needs_background": "light"
     },
     "output_type": "display_data"
    }
   ],
   "source": [
    "model_uni_sw = train_evaluate((1, 1), X_train_sw, X_test_sw, y_train_sw, y_test_sw, df_result, \"unigrams_sw\", metric)"
   ]
  },
  {
   "cell_type": "markdown",
   "id": "63f5ebb3",
   "metadata": {},
   "source": [
    "##### Bigrams"
   ]
  },
  {
   "cell_type": "code",
   "execution_count": 15,
   "id": "3965b195",
   "metadata": {},
   "outputs": [
    {
     "name": "stdout",
     "output_type": "stream",
     "text": [
      "Best Parameters:\n",
      "{'mnb__alpha': 0.1, 'mnb__fit_prior': False}\n",
      "Classification Report:\n",
      "              precision    recall  f1-score   support\n",
      "\n",
      "    negative       0.84      0.81      0.83      1770\n",
      "     neutral       0.23      0.07      0.10       428\n",
      "    positive       0.88      0.95      0.91      4135\n",
      "\n",
      "    accuracy                           0.85      6333\n",
      "   macro avg       0.65      0.61      0.61      6333\n",
      "weighted avg       0.82      0.85      0.83      6333\n",
      "\n",
      "Confusion Matrix:\n"
     ]
    },
    {
     "data": {
      "image/png": "[encoded data removed]",
      "text/plain": [
       "<Figure size 432x288 with 2 Axes>"
      ]
     },
     "metadata": {
      "needs_background": "light"
     },
     "output_type": "display_data"
    }
   ],
   "source": [
    "model_bi = train_evaluate((2, 2), X_train, X_test, y_train, y_test, df_result, \"bigrams\", metric)"
   ]
  },
  {
   "cell_type": "markdown",
   "id": "99ee3300",
   "metadata": {},
   "source": [
    "##### Bigrams + Stop Words"
   ]
  },
  {
   "cell_type": "code",
   "execution_count": 16,
   "id": "f2778ef2",
   "metadata": {},
   "outputs": [
    {
     "name": "stdout",
     "output_type": "stream",
     "text": [
      "Best Parameters:\n",
      "{'mnb__alpha': 0.001, 'mnb__fit_prior': False}\n",
      "Classification Report:\n",
      "              precision    recall  f1-score   support\n",
      "\n",
      "    negative       0.83      0.85      0.84      1770\n",
      "     neutral       0.29      0.13      0.18       428\n",
      "    positive       0.90      0.94      0.92      4135\n",
      "\n",
      "    accuracy                           0.86      6333\n",
      "   macro avg       0.67      0.64      0.65      6333\n",
      "weighted avg       0.84      0.86      0.85      6333\n",
      "\n",
      "Confusion Matrix:\n"
     ]
    },
    {
     "data": {
      "image/png": "[encoded data removed]",
      "text/plain": [
       "<Figure size 432x288 with 2 Axes>"
      ]
     },
     "metadata": {
      "needs_background": "light"
     },
     "output_type": "display_data"
    }
   ],
   "source": [
    "model_bi_sw = train_evaluate((2, 2), X_train_sw, X_test_sw, y_train_sw, y_test_sw, df_result, \"bigrams_sw\", metric)"
   ]
  },
  {
   "cell_type": "markdown",
   "id": "9c1586f2",
   "metadata": {},
   "source": [
    "##### Unigrams + Bigrams"
   ]
  },
  {
   "cell_type": "code",
   "execution_count": 17,
   "id": "7e3bb46b",
   "metadata": {},
   "outputs": [
    {
     "name": "stdout",
     "output_type": "stream",
     "text": [
      "Best Parameters:\n",
      "{'mnb__alpha': 0.001, 'mnb__fit_prior': False}\n",
      "Classification Report:\n",
      "              precision    recall  f1-score   support\n",
      "\n",
      "    negative       0.83      0.81      0.82      1770\n",
      "     neutral       0.27      0.15      0.19       428\n",
      "    positive       0.89      0.94      0.91      4135\n",
      "\n",
      "    accuracy                           0.85      6333\n",
      "   macro avg       0.66      0.63      0.64      6333\n",
      "weighted avg       0.83      0.85      0.84      6333\n",
      "\n",
      "Confusion Matrix:\n"
     ]
    },
    {
     "data": {
      "image/png": "[encoded data removed]",
      "text/plain": [
       "<Figure size 432x288 with 2 Axes>"
      ]
     },
     "metadata": {
      "needs_background": "light"
     },
     "output_type": "display_data"
    }
   ],
   "source": [
    "model_uni_bi = train_evaluate((1, 2), X_train, X_test, y_train, y_test, df_result, \"unigrams_bigrams\", metric)"
   ]
  },
  {
   "cell_type": "markdown",
   "id": "79ee6859",
   "metadata": {},
   "source": [
    "##### Unigrams + Bigrams + Stop Words"
   ]
  },
  {
   "cell_type": "code",
   "execution_count": 18,
   "id": "86862eb1",
   "metadata": {},
   "outputs": [
    {
     "name": "stdout",
     "output_type": "stream",
     "text": [
      "Best Parameters:\n",
      "{'mnb__alpha': 0.001, 'mnb__fit_prior': False}\n",
      "Classification Report:\n",
      "              precision    recall  f1-score   support\n",
      "\n",
      "    negative       0.83      0.86      0.84      1770\n",
      "     neutral       0.30      0.17      0.21       428\n",
      "    positive       0.91      0.94      0.93      4135\n",
      "\n",
      "    accuracy                           0.87      6333\n",
      "   macro avg       0.68      0.65      0.66      6333\n",
      "weighted avg       0.85      0.87      0.86      6333\n",
      "\n",
      "Confusion Matrix:\n"
     ]
    },
    {
     "data": {
      "image/png": "[encoded data removed]",
      "text/plain": [
       "<Figure size 432x288 with 2 Axes>"
      ]
     },
     "metadata": {
      "needs_background": "light"
     },
     "output_type": "display_data"
    }
   ],
   "source": [
    "model_uni_bi_sw = train_evaluate((1, 2), X_train_sw, X_test_sw, y_train_sw, y_test_sw, df_result, \"unigrams_bigrams_sw\", metric)"
   ]
  },
  {
   "cell_type": "markdown",
   "id": "e64608e5",
   "metadata": {},
   "source": [
    "## Findings"
   ]
  },
  {
   "cell_type": "markdown",
   "id": "88119bdd",
   "metadata": {},
   "source": [
    "Preprocessing methods:\n",
    "1. Unigrams\n",
    "2. Unigrams + Stop Words\n",
    "3. Bigrams\n",
    "4. Bigrams + Stop Words\n",
    "5. Unigrams + Bigrams\n",
    "6. Unigrams + Bigrams + Stop Words\n",
    "\n",
    "Evaluataion metric = f1-score\n",
    "- Another way to solve class imbalance problems is to use better accuracy metrics like the F1 score, which take into account not only the number of prediction errors that your model makes, but that also look at the type of errors that are made.\n",
    "\n",
    "Reference: https://towardsdatascience.com/the-f1-score-bec2bbc38aa6\n",
    "\n",
    "Before hyperparameter tuning:\n",
    "- negative f1-score = 0.30 ~ 0.76 (unigrams)\n",
    "- neutral f1-score = 0.00\n",
    "- positive f1-score = 0.81 ~ 0.88 (unigrams)\n",
    "- w.avg f1-score = 0.61 ~ 0.79 (unigrams)"
   ]
  },
  {
   "cell_type": "code",
   "execution_count": 19,
   "id": "71c624e5",
   "metadata": {},
   "outputs": [
    {
     "name": "stdout",
     "output_type": "stream",
     "text": [
      "After hyperparameter tuning:\n",
      "                     f1-score_negative  f1-score_neutral  f1-score_positive  \\\n",
      "preprocessing                                                                 \n",
      "unigrams_bigrams_sw           0.844098          0.214502           0.926296   \n",
      "bigrams_sw                    0.838170          0.183280           0.920804   \n",
      "unigrams_sw                   0.813477          0.304636           0.911801   \n",
      "unigrams_bigrams              0.822654          0.193452           0.914568   \n",
      "unigrams                      0.803927          0.289855           0.905515   \n",
      "bigrams                       0.827011          0.102190           0.913869   \n",
      "\n",
      "                     f1-score_macro_avg  f1-score_weighted_avg  \n",
      "preprocessing                                                   \n",
      "unigrams_bigrams_sw            0.661632               0.855218  \n",
      "bigrams_sw                     0.647418               0.847865  \n",
      "unigrams_sw                    0.676638               0.843287  \n",
      "unigrams_bigrams               0.643558               0.840145  \n",
      "unigrams                       0.666432               0.835514  \n",
      "bigrams                        0.614357               0.834738  \n"
     ]
    }
   ],
   "source": [
    "print(\"After hyperparameter tuning:\")\n",
    "result = pd.concat(df_result, axis=0).set_index(\"preprocessing\").sort_values(by=f\"{metric}_weighted_avg\", ascending=False)\n",
    "print(result)"
   ]
  },
  {
   "cell_type": "code",
   "execution_count": 20,
   "id": "5053bb76",
   "metadata": {},
   "outputs": [
    {
     "name": "stdout",
     "output_type": "stream",
     "text": [
      "Best preprocessing method:\n",
      "unigrams_bigrams_sw with f1-score weighted avg score = [0.85521761]\n"
     ]
    }
   ],
   "source": [
    "print(\"Best preprocessing method:\")\n",
    "w_avg = f\"{metric}_weighted_avg\"\n",
    "print(f\"{result.index[0]} with {metric} weighted avg score = {result.iloc[[0],4].values}\")"
   ]
  },
  {
   "cell_type": "markdown",
   "id": "34a603d2",
   "metadata": {},
   "source": [
    "### Sanity Check"
   ]
  },
  {
   "cell_type": "code",
   "execution_count": null,
   "id": "b87087d7",
   "metadata": {},
   "outputs": [],
   "source": []
  },
  {
   "cell_type": "markdown",
   "id": "16f69c06",
   "metadata": {},
   "source": [
    "### Solving Imbalanced Data\n",
    "\n",
    "Using best preprocessing method from above\n",
    "- Undersampling\n",
    "- Oversampling\n",
    "- Data augmentation using SMOTE algorithm\n",
    "\n",
    "Reference: https://towardsdatascience.com/smote-fdce2f605729\n",
    "\n",
    "Note: Use accuracy as evaluation metric for balanced dataset (https://towardsdatascience.com/the-f1-score-bec2bbc38aa6)"
   ]
  },
  {
   "cell_type": "markdown",
   "id": "f9554422",
   "metadata": {},
   "source": [
    "##### Data augmentation using SMOTE algoritm\n",
    "\n",
    "SMOTE is an intelligent alternative to oversampling: rather than creating duplicates of the minority class, it creates synthetic data points that are relatively similar to the original ones.\n",
    "\n",
    "Using SMOTE, your model will start detecting more cases of the minority class, which will result in an increased recall, but a decreased precision. The decision of whether this is wanted behavior will always be depending on your business case."
   ]
  },
  {
   "cell_type": "markdown",
   "id": "61e3a1c6",
   "metadata": {},
   "source": [
    "When working with imbalanced data, use stratified sampling for your train/test split. Stratified sampling will force the same class balance on the train and test dataset as the original data."
   ]
  },
  {
   "cell_type": "code",
   "execution_count": 5,
   "id": "e53531aa",
   "metadata": {},
   "outputs": [],
   "source": [
    "def split_stratified(stop_words=False):\n",
    "  if stop_words:\n",
    "    data = df_sw\n",
    "  else:\n",
    "    data = df\n",
    "  return train_test_split(data, test_size=0.2, random_state=42, stratify=data.label)"
   ]
  },
  {
   "cell_type": "code",
   "execution_count": 6,
   "id": "f91a02e2",
   "metadata": {},
   "outputs": [],
   "source": [
    "train, test = split_stratified(stop_words=True)"
   ]
  },
  {
   "cell_type": "code",
   "execution_count": 7,
   "id": "8b922766",
   "metadata": {},
   "outputs": [
    {
     "data": {
      "text/plain": [
       "<AxesSubplot:title={'center':'Class distribution'}, xlabel='label'>"
      ]
     },
     "execution_count": 7,
     "metadata": {},
     "output_type": "execute_result"
    },
    {
     "data": {
      "image/png": "[encoded data removed]",
      "text/plain": [
       "<Figure size 432x288 with 1 Axes>"
      ]
     },
     "metadata": {
      "needs_background": "light"
     },
     "output_type": "display_data"
    }
   ],
   "source": [
    "# class distribution should be same as original data, check train set\n",
    "pd.DataFrame(train).pivot_table(index='label', aggfunc='size').plot(kind='bar', title = 'Class distribution')"
   ]
  },
  {
   "cell_type": "code",
   "execution_count": 8,
   "id": "db1d3af7",
   "metadata": {},
   "outputs": [
    {
     "data": {
      "text/plain": [
       "<AxesSubplot:title={'center':'Class distribution'}, xlabel='label'>"
      ]
     },
     "execution_count": 8,
     "metadata": {},
     "output_type": "execute_result"
    },
    {
     "data": {
      "image/png": "[encoded data removed]",
      "text/plain": [
       "<Figure size 432x288 with 1 Axes>"
      ]
     },
     "metadata": {
      "needs_background": "light"
     },
     "output_type": "display_data"
    }
   ],
   "source": [
    "# class distribution should be same as original data, check test set\n",
    "pd.DataFrame(test).pivot_table(index='label', aggfunc='size').plot(kind='bar', title = 'Class distribution')"
   ]
  },
  {
   "cell_type": "code",
   "execution_count": 29,
   "id": "1ababbbc",
   "metadata": {},
   "outputs": [],
   "source": [
    "\n",
    "from imblearn.pipeline import Pipeline as imbpipeline\n",
    "\n",
    "def create_grid_search(ngram_range):\n",
    "  tfidf = TfidfVectorizer(ngram_range=ngram_range)\n",
    "  #sm = SMOTE(random_state=42)\n",
    "  #  sm_xtrain_tfidf, sm_train_y = sm.fit_resample(xtrain_tfidf, train[\"label\"])\n",
    "\n",
    "  #pipe = Pipeline(steps=[(\"tfidf\", tfidf), (\"mnb\", MultinomialNB())])\n",
    "\n",
    "  pipe = imbpipeline(steps = [['tfidf', tfidf],['smote', SMOTE(random_state=11)],['mnb', MultinomialNB()]])\n",
    "  \n",
    "  # alpha -> Setting α=1 is called Laplace smoothing, while α<1 is called Lidstone smoothing. 0 for no smoothing\n",
    "  # fit_prior -> default = True, Whether to learn class prior probabilities or not. If false, a uniform prior will be used.\n",
    "  # class_prior -> default = None, Prior probabilities of the classes. If specified, the priors are not adjusted according to the data.\n",
    "  param_grid = {\n",
    "    'mnb__alpha': [1, 0.1, 0.001],\n",
    "    'mnb__fit_prior': [True, False]\n",
    "    #'mnb__class_prior': [None]\n",
    "    }\n",
    "    \n",
    "  search = GridSearchCV(pipe, param_grid, cv=10, scoring=\"balanced_accuracy\", n_jobs=-1)\n",
    "  return search"
   ]
  },
  {
   "cell_type": "code",
   "execution_count": 30,
   "id": "c426c093",
   "metadata": {},
   "outputs": [],
   "source": [
    "def train_evaluate(ngram_range, X_train, X_test, y_train, y_test, df_result, preprocessing, metric):\n",
    "  search = create_grid_search(ngram_range)\n",
    "  search.fit(X_train, y_train)\n",
    "\n",
    "  print(\"Best Parameters:\")\n",
    "  print(search.best_params_)\n",
    "\n",
    "  y_pred = search.predict(X_test)\n",
    "\n",
    "  print(\"Classification Report:\")\n",
    "  print(classification_report(y_test, y_pred))\n",
    "\n",
    "  print(\"Confusion Matrix:\")\n",
    "  ConfusionMatrixDisplay.from_predictions(y_test, y_pred)\n",
    "  plt.show()\n",
    "    \n",
    "  report = classification_report(y_test,y_pred,output_dict=True)\n",
    "  result = pd.DataFrame(\n",
    "    {\n",
    "        \"preprocessing\":[preprocessing],\n",
    "        f\"{metric}_negative\":report[\"negative\"][f\"{metric}\"],\n",
    "        f\"{metric}_neutral\":report[\"neutral\"][f\"{metric}\"],\n",
    "        f\"{metric}_positive\":report[\"positive\"][f\"{metric}\"],\n",
    "        f\"{metric}_macro_avg\":report[\"macro avg\"][f\"{metric}\"],\n",
    "        f\"{metric}_weighted_avg\":report[\"weighted avg\"][f\"{metric}\"],\n",
    "    }\n",
    "    )\n",
    "\n",
    "  df_result.append(result)\n",
    "\n",
    "  return search, df_result"
   ]
  },
  {
   "cell_type": "code",
   "execution_count": 31,
   "id": "54b6f4bd",
   "metadata": {},
   "outputs": [
    {
     "name": "stdout",
     "output_type": "stream",
     "text": [
      "Best Parameters:\n",
      "{'mnb__alpha': 1, 'mnb__fit_prior': True}\n",
      "Classification Report:\n",
      "              precision    recall  f1-score   support\n",
      "\n",
      "    negative       0.75      0.79      0.77      1770\n",
      "     neutral       0.19      0.74      0.30       428\n",
      "    positive       0.99      0.67      0.80      4135\n",
      "\n",
      "    accuracy                           0.71      6333\n",
      "   macro avg       0.64      0.73      0.62      6333\n",
      "weighted avg       0.87      0.71      0.76      6333\n",
      "\n",
      "Confusion Matrix:\n"
     ]
    },
    {
     "data": {
      "image/png": "[encoded data removed]",
      "text/plain": [
       "<Figure size 432x288 with 2 Axes>"
      ]
     },
     "metadata": {
      "needs_background": "light"
     },
     "output_type": "display_data"
    }
   ],
   "source": [
    "model_uni_bi_sw = train_evaluate((1, 2), X_train_sw, X_test_sw, y_train_sw, y_test_sw, df_result, \"unigrams_bigrams_sw\", metric)"
   ]
  },
  {
   "cell_type": "code",
   "execution_count": null,
   "id": "f40f595f",
   "metadata": {},
   "outputs": [],
   "source": []
  },
  {
   "cell_type": "code",
   "execution_count": null,
   "id": "3b575085",
   "metadata": {},
   "outputs": [],
   "source": []
  },
  {
   "cell_type": "code",
   "execution_count": 15,
   "id": "c727f6db",
   "metadata": {},
   "outputs": [],
   "source": [
    "#!pip install imblearn\n",
    "from imblearn.over_sampling import SMOTE\n",
    "#sm = SMOTE(random_state=42)\n",
    "#X_res, y_res = sm.fit_resample(train[[\"text\"]], train[\"label\"])\n",
    "\n",
    "tfidf = TfidfVectorizer(ngram_range=(1, 2))\n",
    "xtrain_tfidf = tfidf.fit_transform(train[\"text\"])\n",
    "\n",
    "sm = SMOTE(random_state=42)\n",
    "sm_xtrain_tfidf, sm_train_y = sm.fit_resample(xtrain_tfidf, train[\"label\"])"
   ]
  },
  {
   "cell_type": "code",
   "execution_count": null,
   "id": "f75648c1",
   "metadata": {},
   "outputs": [],
   "source": [
    "# reference: https://github.com/sismetanin/sentiment-analysis-of-tweets-in-russian/blob/master/Sentiment%20Analysis%20of%20Tweets%20in%20Russian%20using%20Multinomial%20Naive%20Bayes.ipynb\n",
    "df_positive = df[df[\"label\"]==\"positive\"]\n",
    "df_negative = df[df[\"label\"]==\"negative\"]\n",
    "df_neutral = df[df[\"label\"]==\"neutral\"]\n",
    "\n",
    "sample_size = df_neutral.shape[0]\n",
    "\n",
    "df = np.concatenate((df_neutral, df_positive[:sample_size],df_negative[:sample_size]), axis=0)\n",
    "\n",
    "df_positive = df_sw[df_sw[\"label\"]==\"positive\"]\n",
    "df_negative = df_sw[df_sw[\"label\"]==\"negative\"]\n",
    "df_neutral = df_sw[df_sw[\"label\"]==\"neutral\"]\n",
    "\n",
    "df_sw = np.concatenate((df_neutral, df_positive[:sample_size],df_negative[:sample_size]), axis=0)"
   ]
  },
  {
   "cell_type": "code",
   "execution_count": null,
   "id": "aeb76583",
   "metadata": {},
   "outputs": [],
   "source": [
    "df.shape"
   ]
  },
  {
   "cell_type": "code",
   "execution_count": null,
   "id": "3da1469c",
   "metadata": {},
   "outputs": [],
   "source": [
    "pd.DataFrame(df).label.value_counts()"
   ]
  },
  {
   "cell_type": "code",
   "execution_count": null,
   "id": "0989aa08",
   "metadata": {},
   "outputs": [],
   "source": [
    "df_sw.shape"
   ]
  },
  {
   "cell_type": "code",
   "execution_count": null,
   "id": "fb6f80c0",
   "metadata": {},
   "outputs": [],
   "source": [
    "pd.DataFrame(df_sw).label.value_counts()"
   ]
  }
 ],
 "metadata": {
  "kernelspec": {
   "display_name": "Python 3 (ipykernel)",
   "language": "python",
   "name": "python3"
  },
  "language_info": {
   "codemirror_mode": {
    "name": "ipython",
    "version": 3
   },
   "file_extension": ".py",
   "mimetype": "text/x-python",
   "name": "python",
   "nbconvert_exporter": "python",
   "pygments_lexer": "ipython3",
   "version": "3.8.8"
  }
 },
 "nbformat": 4,
 "nbformat_minor": 5
}
