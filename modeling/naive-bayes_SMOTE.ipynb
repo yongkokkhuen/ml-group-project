{
 "cells": [
  {
   "cell_type": "markdown",
   "id": "603aa6b4",
   "metadata": {},
   "source": [
    "# Multinomial Naive Bayes\n",
    "\n",
    "Multinomial Naive Bayes is favored to use on data that is multinomial distributed. It is widely used in text classification in NLP.  Each event in text classification constitutes the presence of a word in a document.\n",
    "\n",
    "Reference: https://www.analyticssteps.com/blogs/what-naive-bayes-algorithm-machine-learning"
   ]
  },
  {
   "cell_type": "markdown",
   "id": "2451ab7a",
   "metadata": {},
   "source": [
    "### Imports"
   ]
  },
  {
   "cell_type": "code",
   "execution_count": 1,
   "id": "a2778a61",
   "metadata": {},
   "outputs": [],
   "source": [
    "import pandas as pd\n",
    "import matplotlib.pyplot as plt\n",
    "\n",
    "from sklearn.feature_extraction.text import TfidfVectorizer\n",
    "from sklearn.metrics import classification_report, ConfusionMatrixDisplay\n",
    "from sklearn.model_selection import GridSearchCV, train_test_split\n",
    "from sklearn.naive_bayes import MultinomialNB\n",
    "from sklearn.pipeline import Pipeline\n",
    "\n",
    "#!pip install imblearn\n",
    "from imblearn.over_sampling import SMOTE\n",
    "from imblearn.pipeline import Pipeline as imbpipeline"
   ]
  },
  {
   "cell_type": "markdown",
   "id": "2a62f7ca",
   "metadata": {},
   "source": [
    "### Load Data"
   ]
  },
  {
   "cell_type": "code",
   "execution_count": 2,
   "id": "aa3a6384",
   "metadata": {},
   "outputs": [
    {
     "data": {
      "text/html": [
       "<div>\n",
       "<style scoped>\n",
       "    .dataframe tbody tr th:only-of-type {\n",
       "        vertical-align: middle;\n",
       "    }\n",
       "\n",
       "    .dataframe tbody tr th {\n",
       "        vertical-align: top;\n",
       "    }\n",
       "\n",
       "    .dataframe thead th {\n",
       "        text-align: right;\n",
       "    }\n",
       "</style>\n",
       "<table border=\"1\" class=\"dataframe\">\n",
       "  <thead>\n",
       "    <tr style=\"text-align: right;\">\n",
       "      <th></th>\n",
       "      <th>text</th>\n",
       "      <th>label</th>\n",
       "    </tr>\n",
       "  </thead>\n",
       "  <tbody>\n",
       "    <tr>\n",
       "      <th>0</th>\n",
       "      <td>bought fender telecaster salesperson told orig...</td>\n",
       "      <td>negative</td>\n",
       "    </tr>\n",
       "    <tr>\n",
       "      <th>1</th>\n",
       "      <td>visit son restaurant desert home food authenti...</td>\n",
       "      <td>positive</td>\n",
       "    </tr>\n",
       "    <tr>\n",
       "      <th>2</th>\n",
       "      <td>danielle great job listened cut hair way reque...</td>\n",
       "      <td>positive</td>\n",
       "    </tr>\n",
       "    <tr>\n",
       "      <th>3</th>\n",
       "      <td>saw lot roaches bathroom woke bed large dark s...</td>\n",
       "      <td>negative</td>\n",
       "    </tr>\n",
       "    <tr>\n",
       "      <th>4</th>\n",
       "      <td>ordered pork fried rice beef chow mei fun teri...</td>\n",
       "      <td>negative</td>\n",
       "    </tr>\n",
       "  </tbody>\n",
       "</table>\n",
       "</div>"
      ],
      "text/plain": [
       "                                                text     label\n",
       "0  bought fender telecaster salesperson told orig...  negative\n",
       "1  visit son restaurant desert home food authenti...  positive\n",
       "2  danielle great job listened cut hair way reque...  positive\n",
       "3  saw lot roaches bathroom woke bed large dark s...  negative\n",
       "4  ordered pork fried rice beef chow mei fun teri...  negative"
      ]
     },
     "execution_count": 2,
     "metadata": {},
     "output_type": "execute_result"
    }
   ],
   "source": [
    "# stop words removed\n",
    "df = pd.read_csv(\"../data/review_2022_clean.csv\")\n",
    "df.head()"
   ]
  },
  {
   "cell_type": "code",
   "execution_count": 3,
   "id": "d75a92a0",
   "metadata": {},
   "outputs": [
    {
     "data": {
      "text/html": [
       "<div>\n",
       "<style scoped>\n",
       "    .dataframe tbody tr th:only-of-type {\n",
       "        vertical-align: middle;\n",
       "    }\n",
       "\n",
       "    .dataframe tbody tr th {\n",
       "        vertical-align: top;\n",
       "    }\n",
       "\n",
       "    .dataframe thead th {\n",
       "        text-align: right;\n",
       "    }\n",
       "</style>\n",
       "<table border=\"1\" class=\"dataframe\">\n",
       "  <thead>\n",
       "    <tr style=\"text-align: right;\">\n",
       "      <th></th>\n",
       "      <th>text</th>\n",
       "      <th>label</th>\n",
       "    </tr>\n",
       "  </thead>\n",
       "  <tbody>\n",
       "    <tr>\n",
       "      <th>0</th>\n",
       "      <td>i bought a fender telecaster that the salesper...</td>\n",
       "      <td>negative</td>\n",
       "    </tr>\n",
       "    <tr>\n",
       "      <th>1</th>\n",
       "      <td>this is our go to for take out when i visit my...</td>\n",
       "      <td>positive</td>\n",
       "    </tr>\n",
       "    <tr>\n",
       "      <th>2</th>\n",
       "      <td>danielle did a great job she listened and cut ...</td>\n",
       "      <td>positive</td>\n",
       "    </tr>\n",
       "    <tr>\n",
       "      <th>3</th>\n",
       "      <td>we saw a lot of roaches in the bathroom when w...</td>\n",
       "      <td>negative</td>\n",
       "    </tr>\n",
       "    <tr>\n",
       "      <th>4</th>\n",
       "      <td>we ordered pork fried rice and beef chow mei f...</td>\n",
       "      <td>negative</td>\n",
       "    </tr>\n",
       "  </tbody>\n",
       "</table>\n",
       "</div>"
      ],
      "text/plain": [
       "                                                text     label\n",
       "0  i bought a fender telecaster that the salesper...  negative\n",
       "1  this is our go to for take out when i visit my...  positive\n",
       "2  danielle did a great job she listened and cut ...  positive\n",
       "3  we saw a lot of roaches in the bathroom when w...  negative\n",
       "4  we ordered pork fried rice and beef chow mei f...  negative"
      ]
     },
     "execution_count": 3,
     "metadata": {},
     "output_type": "execute_result"
    }
   ],
   "source": [
    "df_sw = pd.read_csv(\"../data/review_2022_clean_sw.csv\")\n",
    "df_sw.head()"
   ]
  },
  {
   "cell_type": "markdown",
   "id": "0cb44d23",
   "metadata": {},
   "source": [
    "### Check Imbalanced Data"
   ]
  },
  {
   "cell_type": "code",
   "execution_count": 4,
   "id": "75a2661a",
   "metadata": {},
   "outputs": [
    {
     "data": {
      "text/plain": [
       "positive    20916\n",
       "negative     8566\n",
       "neutral      2183\n",
       "Name: label, dtype: int64"
      ]
     },
     "execution_count": 4,
     "metadata": {},
     "output_type": "execute_result"
    }
   ],
   "source": [
    "pd.DataFrame(df).label.value_counts()"
   ]
  },
  {
   "cell_type": "code",
   "execution_count": 5,
   "id": "a4803814",
   "metadata": {},
   "outputs": [
    {
     "name": "stdout",
     "output_type": "stream",
     "text": [
      "Imbalanced data in dataset:\n",
      "Postive - 66.05%\n",
      "Negative - 27.05%\n",
      "Neutral - 6.89%\n"
     ]
    }
   ],
   "source": [
    "print(\"Imbalanced data in dataset:\")\n",
    "total = df.shape[0]\n",
    "value_counts = pd.DataFrame(df).label.value_counts()\n",
    "positive_percent = value_counts[\"positive\"]/total*100\n",
    "negative_percent = value_counts[\"negative\"]/total*100\n",
    "neutral_percent = value_counts[\"neutral\"]/total*100\n",
    "\n",
    "print(\"Postive - {:04.2f}\".format(positive_percent)+'%')\n",
    "print(\"Negative - {:04.2f}\".format(negative_percent)+'%')\n",
    "print(\"Neutral - {:04.2f}\".format(neutral_percent)+'%')"
   ]
  },
  {
   "cell_type": "code",
   "execution_count": 6,
   "id": "d0ca2325",
   "metadata": {},
   "outputs": [
    {
     "data": {
      "text/plain": [
       "<AxesSubplot:title={'center':'Class distribution'}, xlabel='label'>"
      ]
     },
     "execution_count": 6,
     "metadata": {},
     "output_type": "execute_result"
    },
    {
     "data": {
      "image/png": "[encoded data removed]",
      "text/plain": [
       "<Figure size 432x288 with 1 Axes>"
      ]
     },
     "metadata": {
      "needs_background": "light"
     },
     "output_type": "display_data"
    }
   ],
   "source": [
    "df.pivot_table(index='label', aggfunc='size').plot(kind='bar', title = 'Class distribution')"
   ]
  },
  {
   "cell_type": "markdown",
   "id": "272d965b",
   "metadata": {},
   "source": [
    "### Train-Test Split"
   ]
  },
  {
   "cell_type": "code",
   "execution_count": 7,
   "id": "94b956f5",
   "metadata": {},
   "outputs": [],
   "source": [
    "def split(stop_words=False):\n",
    "  if stop_words:\n",
    "    X = df_sw[\"text\"]\n",
    "    y = df_sw[\"label\"]\n",
    "  else:\n",
    "    X = df[\"text\"]\n",
    "    y = df[\"label\"]\n",
    "  return train_test_split(X, y, test_size=0.2, random_state=42)"
   ]
  },
  {
   "cell_type": "code",
   "execution_count": 8,
   "id": "0143a02e",
   "metadata": {},
   "outputs": [],
   "source": [
    "X_train, X_test, y_train, y_test = split()"
   ]
  },
  {
   "cell_type": "code",
   "execution_count": 9,
   "id": "c9131d8a",
   "metadata": {},
   "outputs": [],
   "source": [
    "X_train_sw, X_test_sw, y_train_sw, y_test_sw = split(stop_words=True)"
   ]
  },
  {
   "cell_type": "code",
   "execution_count": 10,
   "id": "16d29f2f",
   "metadata": {},
   "outputs": [
    {
     "data": {
      "text/plain": [
       "<AxesSubplot:title={'center':'Class distribution'}, xlabel='label'>"
      ]
     },
     "execution_count": 10,
     "metadata": {},
     "output_type": "execute_result"
    },
    {
     "data": {
      "image/png": "[encoded data removed]",
      "text/plain": [
       "<Figure size 432x288 with 1 Axes>"
      ]
     },
     "metadata": {
      "needs_background": "light"
     },
     "output_type": "display_data"
    }
   ],
   "source": [
    "# check class distribution in train set\n",
    "pd.DataFrame(y_train_sw).pivot_table(index='label', aggfunc='size').plot(kind='bar', title = 'Class distribution')"
   ]
  },
  {
   "cell_type": "code",
   "execution_count": 11,
   "id": "db5d568c",
   "metadata": {},
   "outputs": [
    {
     "data": {
      "text/plain": [
       "<AxesSubplot:title={'center':'Class distribution'}, xlabel='label'>"
      ]
     },
     "execution_count": 11,
     "metadata": {},
     "output_type": "execute_result"
    },
    {
     "data": {
      "image/png": "[encoded data removed]",
      "text/plain": [
       "<Figure size 432x288 with 1 Axes>"
      ]
     },
     "metadata": {
      "needs_background": "light"
     },
     "output_type": "display_data"
    }
   ],
   "source": [
    "# check class distribution in test set\n",
    "pd.DataFrame(y_test_sw).pivot_table(index='label', aggfunc='size').plot(kind='bar', title = 'Class distribution')"
   ]
  },
  {
   "cell_type": "markdown",
   "id": "cbdffe19",
   "metadata": {},
   "source": [
    "### Modelling\n",
    "\n",
    "Hyperparameters:\n",
    "1. alpha\n",
    "- Setting α=1 is called Laplace smoothing, while α<1 is called Lidstone smoothing. 0 for no smoothing.\n",
    "- Smoothing parameter α =1. Add 1 to every probability, therefore the probability will never be zero\n",
    "(https://medium.com/syncedreview/applying-multinomial-naive-bayes-to-nlp-problems-a-practical-explanation-4f5271768ebf#:~:text=A%20small%2Dsample%20correction%2C%20or,is%20often%20called%20Lidstone%20smoothing%20.)\n",
    "\n",
    "2. fit_prior -> default = True\n",
    "- Whether to learn class prior probabilities or not. If false, a uniform prior will be used.\n",
    "\n",
    "3. class_prior -> default = None\n",
    "- Prior probabilities of the classes. If specified, the priors are not adjusted according to the data.\n",
    "- if default, each class prior = frequency of the class / total "
   ]
  },
  {
   "cell_type": "code",
   "execution_count": 12,
   "id": "cb0e0513",
   "metadata": {},
   "outputs": [],
   "source": [
    "# Reference: https://towardsdatascience.com/the-right-way-of-using-smote-with-cross-validation-92a8d09d00c7\n",
    "\n",
    "def create_grid_search(ngram_range):\n",
    "  tfidf = TfidfVectorizer(ngram_range=ngram_range)\n",
    "  pipe = imbpipeline(steps = [['tfidf', tfidf],['smote', SMOTE(random_state=11)],['mnb', MultinomialNB()]])\n",
    "  \n",
    "  param_grid = {\n",
    "    'mnb__alpha': [1, 0.1, 0.001],\n",
    "    'mnb__fit_prior': [True, False],\n",
    "    'mnb__class_prior': [None, [0.3,0.3,0.4],[0.4,0.3,0.3],[0.3,0.4,0.3],[0.3,0.5,0.2]]\n",
    "    }\n",
    "    \n",
    "  search = GridSearchCV(pipe, param_grid, cv=10, scoring=\"accuracy\", n_jobs=-1)\n",
    "  return search"
   ]
  },
  {
   "cell_type": "code",
   "execution_count": 13,
   "id": "9a3ad4c4",
   "metadata": {},
   "outputs": [],
   "source": [
    "def train_evaluate(ngram_range, X_train, X_test, y_train, y_test, df_result, preprocessing, metric):\n",
    "  search = create_grid_search(ngram_range)\n",
    "  search.fit(X_train, y_train)\n",
    "\n",
    "  print(\"Best Parameters:\")\n",
    "  print(search.best_params_)\n",
    "\n",
    "  y_pred = search.predict(X_test)\n",
    "\n",
    "  print(\"Classification Report:\")\n",
    "  print(classification_report(y_test, y_pred))\n",
    "\n",
    "  print(\"Confusion Matrix:\")\n",
    "  ConfusionMatrixDisplay.from_predictions(y_test, y_pred)\n",
    "  plt.show()\n",
    "    \n",
    "  report = classification_report(y_test,y_pred,output_dict=True)\n",
    "  result = pd.DataFrame(\n",
    "    {\n",
    "        \"preprocessing\":[preprocessing],\n",
    "        f\"{metric}_negative\":report[\"negative\"][f\"{metric}\"],\n",
    "        f\"{metric}_neutral\":report[\"neutral\"][f\"{metric}\"],\n",
    "        f\"{metric}_positive\":report[\"positive\"][f\"{metric}\"],\n",
    "        f\"{metric}_macro_avg\":report[\"macro avg\"][f\"{metric}\"],\n",
    "        f\"{metric}_weighted_avg\":report[\"weighted avg\"][f\"{metric}\"],\n",
    "    }\n",
    "    )\n",
    "\n",
    "  df_result.append(result)\n",
    "\n",
    "  return search"
   ]
  },
  {
   "cell_type": "markdown",
   "id": "7ce95726",
   "metadata": {},
   "source": [
    "### Comparison of MultinomialNB with different preprocessing methods"
   ]
  },
  {
   "cell_type": "code",
   "execution_count": 14,
   "id": "29b3b3f8",
   "metadata": {},
   "outputs": [],
   "source": [
    "df_result = []\n",
    "metric = \"f1-score\""
   ]
  },
  {
   "cell_type": "markdown",
   "id": "ff6b68f7",
   "metadata": {},
   "source": [
    "##### Unigrams"
   ]
  },
  {
   "cell_type": "code",
   "execution_count": 15,
   "id": "c0f149ba",
   "metadata": {},
   "outputs": [
    {
     "name": "stdout",
     "output_type": "stream",
     "text": [
      "Best Parameters:\n",
      "{'mnb__alpha': 0.1, 'mnb__class_prior': [0.3, 0.3, 0.4], 'mnb__fit_prior': True}\n",
      "Classification Report:\n",
      "              precision    recall  f1-score   support\n",
      "\n",
      "    negative       0.81      0.78      0.79      1770\n",
      "     neutral       0.25      0.42      0.31       428\n",
      "    positive       0.93      0.88      0.90      4135\n",
      "\n",
      "    accuracy                           0.82      6333\n",
      "   macro avg       0.66      0.69      0.67      6333\n",
      "weighted avg       0.85      0.82      0.83      6333\n",
      "\n",
      "Confusion Matrix:\n"
     ]
    },
    {
     "data": {
      "image/png": "[encoded data removed]",
      "text/plain": [
       "<Figure size 432x288 with 2 Axes>"
      ]
     },
     "metadata": {
      "needs_background": "light"
     },
     "output_type": "display_data"
    }
   ],
   "source": [
    "model_uni = train_evaluate((1, 1), X_train, X_test, y_train, y_test, df_result, \"unigrams\", metric)"
   ]
  },
  {
   "cell_type": "markdown",
   "id": "9cff6165",
   "metadata": {},
   "source": [
    "##### Unigrams + Stop Words"
   ]
  },
  {
   "cell_type": "code",
   "execution_count": 16,
   "id": "0372d143",
   "metadata": {},
   "outputs": [
    {
     "name": "stdout",
     "output_type": "stream",
     "text": [
      "Best Parameters:\n",
      "{'mnb__alpha': 0.1, 'mnb__class_prior': [0.3, 0.3, 0.4], 'mnb__fit_prior': True}\n",
      "Classification Report:\n",
      "              precision    recall  f1-score   support\n",
      "\n",
      "    negative       0.82      0.79      0.80      1770\n",
      "     neutral       0.26      0.41      0.32       428\n",
      "    positive       0.93      0.89      0.91      4135\n",
      "\n",
      "    accuracy                           0.83      6333\n",
      "   macro avg       0.67      0.70      0.68      6333\n",
      "weighted avg       0.85      0.83      0.84      6333\n",
      "\n",
      "Confusion Matrix:\n"
     ]
    },
    {
     "data": {
      "image/png": "[encoded data removed]",
      "text/plain": [
       "<Figure size 432x288 with 2 Axes>"
      ]
     },
     "metadata": {
      "needs_background": "light"
     },
     "output_type": "display_data"
    }
   ],
   "source": [
    "model_uni_sw = train_evaluate((1, 1), X_train_sw, X_test_sw, y_train_sw, y_test_sw, df_result, \"unigrams_sw\", metric)"
   ]
  },
  {
   "cell_type": "markdown",
   "id": "63f5ebb3",
   "metadata": {},
   "source": [
    "##### Bigrams"
   ]
  },
  {
   "cell_type": "code",
   "execution_count": 17,
   "id": "3965b195",
   "metadata": {},
   "outputs": [
    {
     "name": "stdout",
     "output_type": "stream",
     "text": [
      "Best Parameters:\n",
      "{'mnb__alpha': 0.1, 'mnb__class_prior': [0.3, 0.3, 0.4], 'mnb__fit_prior': True}\n",
      "Classification Report:\n",
      "              precision    recall  f1-score   support\n",
      "\n",
      "    negative       0.87      0.76      0.81      1770\n",
      "     neutral       0.23      0.13      0.17       428\n",
      "    positive       0.87      0.95      0.91      4135\n",
      "\n",
      "    accuracy                           0.84      6333\n",
      "   macro avg       0.66      0.61      0.63      6333\n",
      "weighted avg       0.83      0.84      0.83      6333\n",
      "\n",
      "Confusion Matrix:\n"
     ]
    },
    {
     "data": {
      "image/png": "[encoded data removed]",
      "text/plain": [
       "<Figure size 432x288 with 2 Axes>"
      ]
     },
     "metadata": {
      "needs_background": "light"
     },
     "output_type": "display_data"
    }
   ],
   "source": [
    "model_bi = train_evaluate((2, 2), X_train, X_test, y_train, y_test, df_result, \"bigrams\", metric)"
   ]
  },
  {
   "cell_type": "markdown",
   "id": "99ee3300",
   "metadata": {},
   "source": [
    "##### Bigrams + Stop Words"
   ]
  },
  {
   "cell_type": "code",
   "execution_count": 18,
   "id": "f2778ef2",
   "metadata": {},
   "outputs": [
    {
     "name": "stdout",
     "output_type": "stream",
     "text": [
      "Best Parameters:\n",
      "{'mnb__alpha': 0.1, 'mnb__class_prior': [0.3, 0.3, 0.4], 'mnb__fit_prior': True}\n",
      "Classification Report:\n",
      "              precision    recall  f1-score   support\n",
      "\n",
      "    negative       0.85      0.85      0.85      1770\n",
      "     neutral       0.33      0.25      0.28       428\n",
      "    positive       0.92      0.95      0.93      4135\n",
      "\n",
      "    accuracy                           0.87      6333\n",
      "   macro avg       0.70      0.68      0.69      6333\n",
      "weighted avg       0.86      0.87      0.87      6333\n",
      "\n",
      "Confusion Matrix:\n"
     ]
    },
    {
     "data": {
      "image/png": "[encoded data removed]",
      "text/plain": [
       "<Figure size 432x288 with 2 Axes>"
      ]
     },
     "metadata": {
      "needs_background": "light"
     },
     "output_type": "display_data"
    }
   ],
   "source": [
    "model_bi_sw = train_evaluate((2, 2), X_train_sw, X_test_sw, y_train_sw, y_test_sw, df_result, \"bigrams_sw\", metric)"
   ]
  },
  {
   "cell_type": "markdown",
   "id": "9c1586f2",
   "metadata": {},
   "source": [
    "##### Unigrams + Bigrams"
   ]
  },
  {
   "cell_type": "code",
   "execution_count": 19,
   "id": "7e3bb46b",
   "metadata": {},
   "outputs": [
    {
     "name": "stdout",
     "output_type": "stream",
     "text": [
      "Best Parameters:\n",
      "{'mnb__alpha': 0.1, 'mnb__class_prior': [0.3, 0.3, 0.4], 'mnb__fit_prior': True}\n",
      "Classification Report:\n",
      "              precision    recall  f1-score   support\n",
      "\n",
      "    negative       0.85      0.82      0.83      1770\n",
      "     neutral       0.30      0.25      0.27       428\n",
      "    positive       0.91      0.94      0.92      4135\n",
      "\n",
      "    accuracy                           0.86      6333\n",
      "   macro avg       0.69      0.67      0.68      6333\n",
      "weighted avg       0.85      0.86      0.86      6333\n",
      "\n",
      "Confusion Matrix:\n"
     ]
    },
    {
     "data": {
      "image/png": "[encoded data removed]",
      "text/plain": [
       "<Figure size 432x288 with 2 Axes>"
      ]
     },
     "metadata": {
      "needs_background": "light"
     },
     "output_type": "display_data"
    }
   ],
   "source": [
    "model_uni_bi = train_evaluate((1, 2), X_train, X_test, y_train, y_test, df_result, \"unigrams_bigrams\", metric)"
   ]
  },
  {
   "cell_type": "markdown",
   "id": "79ee6859",
   "metadata": {},
   "source": [
    "##### Unigrams + Bigrams + Stop Words"
   ]
  },
  {
   "cell_type": "code",
   "execution_count": 20,
   "id": "86862eb1",
   "metadata": {},
   "outputs": [
    {
     "name": "stdout",
     "output_type": "stream",
     "text": [
      "Best Parameters:\n",
      "{'mnb__alpha': 0.001, 'mnb__class_prior': [0.4, 0.3, 0.3], 'mnb__fit_prior': True}\n",
      "Classification Report:\n",
      "              precision    recall  f1-score   support\n",
      "\n",
      "    negative       0.84      0.85      0.85      1770\n",
      "     neutral       0.25      0.03      0.06       428\n",
      "    positive       0.88      0.96      0.92      4135\n",
      "\n",
      "    accuracy                           0.87      6333\n",
      "   macro avg       0.66      0.61      0.61      6333\n",
      "weighted avg       0.83      0.87      0.84      6333\n",
      "\n",
      "Confusion Matrix:\n"
     ]
    },
    {
     "data": {
      "image/png": "[encoded data removed]",
      "text/plain": [
       "<Figure size 432x288 with 2 Axes>"
      ]
     },
     "metadata": {
      "needs_background": "light"
     },
     "output_type": "display_data"
    }
   ],
   "source": [
    "model_uni_bi_sw = train_evaluate((1, 2), X_train_sw, X_test_sw, y_train_sw, y_test_sw, df_result, \"unigrams_bigrams_sw\", metric)"
   ]
  },
  {
   "cell_type": "markdown",
   "id": "e64608e5",
   "metadata": {},
   "source": [
    "## Findings"
   ]
  },
  {
   "cell_type": "markdown",
   "id": "88119bdd",
   "metadata": {},
   "source": [
    "Preprocessing methods:\n",
    "1. Unigrams\n",
    "2. Unigrams + Stop Words\n",
    "3. Bigrams\n",
    "4. Bigrams + Stop Words\n",
    "5. Unigrams + Bigrams\n",
    "6. Unigrams + Bigrams + Stop Words\n",
    "\n",
    "Evaluataion metric = f1-score\n",
    "- Another way to solve class imbalance problems is to use better accuracy metrics like the F1 score, which take into account not only the number of prediction errors that your model makes, but that also look at the type of errors that are made.\n",
    "\n",
    "Reference: https://towardsdatascience.com/the-f1-score-bec2bbc38aa6\n",
    "\n",
    "macro avg or weighted avg\n",
    "- In general, if you are working with an imbalanced dataset where all classes are equally important, using the macro average would be a good choice as it treats all classes equally.\n",
    "- From business owner's perspective, false positive of label \"positive\" is better than false negative as it helps to attract customer. So weighted avg is more suitable.\n",
    "- From reader's perspective, false positive of label \"positive\" is false positive review that brings misleading information to them. So macro average is more suitable.\n",
    "\n",
    "Reference: https://towardsdatascience.com/micro-macro-weighted-averages-of-f1-score-clearly-explained-b603420b292f\n",
    "\n",
    "Before hyperparameter tuning:\n",
    "- negative f1-score = 0.30 ~ 0.76 (unigrams)\n",
    "- neutral f1-score = 0.00\n",
    "- positive f1-score = 0.81 ~ 0.88 (unigrams)\n",
    "- w.avg f1-score = 0.61 ~ 0.79 (unigrams)"
   ]
  },
  {
   "cell_type": "code",
   "execution_count": 21,
   "id": "71c624e5",
   "metadata": {},
   "outputs": [
    {
     "name": "stdout",
     "output_type": "stream",
     "text": [
      "After hyperparameter tuning:\n",
      "                     f1-score_negative  f1-score_neutral  f1-score_positive  \\\n",
      "preprocessing                                                                 \n",
      "bigrams_sw                    0.851172          0.284182           0.934240   \n",
      "unigrams_bigrams              0.833813          0.272040           0.924946   \n",
      "unigrams_bigrams_sw           0.847734          0.057971           0.920046   \n",
      "unigrams_sw                   0.803448          0.318099           0.909787   \n",
      "unigrams                      0.794694          0.313760           0.904803   \n",
      "bigrams                       0.811218          0.166172           0.908944   \n",
      "\n",
      "                     f1-score_macro_avg  f1-score_weighted_avg  \n",
      "preprocessing                                                   \n",
      "bigrams_sw                     0.689865               0.867091  \n",
      "unigrams_bigrams               0.676933               0.855351  \n",
      "unigrams_bigrams_sw            0.608584               0.841575  \n",
      "unigrams_sw                    0.677111               0.840079  \n",
      "unigrams                       0.671086               0.834085  \n",
      "bigrams                        0.628778               0.831433  \n"
     ]
    }
   ],
   "source": [
    "print(\"After hyperparameter tuning:\")\n",
    "result = pd.concat(df_result, axis=0).set_index(\"preprocessing\").sort_values(by=f\"{metric}_weighted_avg\", ascending=False)\n",
    "print(result)"
   ]
  },
  {
   "cell_type": "code",
   "execution_count": 22,
   "id": "5053bb76",
   "metadata": {},
   "outputs": [
    {
     "name": "stdout",
     "output_type": "stream",
     "text": [
      "Best preprocessing method:\n",
      "bigrams_sw with f1-score weighted avg score = [0.86709116]\n"
     ]
    }
   ],
   "source": [
    "print(\"Best preprocessing method:\")\n",
    "w_avg = f\"{metric}_weighted_avg\"\n",
    "print(f\"{result.index[0]} with {metric} weighted avg score = {result.iloc[[0],4].values}\")"
   ]
  },
  {
   "cell_type": "markdown",
   "id": "16f69c06",
   "metadata": {},
   "source": [
    "### Solving Imbalanced Data\n",
    "\n",
    "Using best preprocessing method from above\n",
    "- Undersampling\n",
    "- Oversampling\n",
    "- Data augmentation using SMOTE algorithm\n",
    "\n",
    "Reference: https://towardsdatascience.com/smote-fdce2f605729\n",
    "\n",
    "Note: Use accuracy as evaluation metric for balanced dataset (https://towardsdatascience.com/the-f1-score-bec2bbc38aa6)"
   ]
  },
  {
   "cell_type": "markdown",
   "id": "f9554422",
   "metadata": {},
   "source": [
    "##### Data augmentation using SMOTE algoritm\n",
    "\n",
    "SMOTE is an intelligent alternative to oversampling: rather than creating duplicates of the minority class, it creates synthetic data points that are relatively similar to the original ones.\n",
    "\n",
    "Using SMOTE, your model will start detecting more cases of the minority class, which will result in an increased recall, but a decreased precision. The decision of whether this is wanted behavior will always be depending on your business case."
   ]
  },
  {
   "cell_type": "code",
   "execution_count": 23,
   "id": "ed514a00",
   "metadata": {},
   "outputs": [],
   "source": [
    "# Reference: https://towardsdatascience.com/the-right-way-of-using-smote-with-cross-validation-92a8d09d00c7\n",
    "\n",
    "def create_grid_search(ngram_range):\n",
    "  tfidf = TfidfVectorizer(ngram_range=ngram_range)\n",
    "  pipe = imbpipeline(steps = [['tfidf', tfidf],['smote', SMOTE(random_state=11)],['mnb', MultinomialNB()]])\n",
    "  \n",
    "  param_grid = {\n",
    "    'mnb__alpha': [1, 0.1, 0.001],\n",
    "    'mnb__fit_prior': [True, False],\n",
    "    'mnb__class_prior': [None, [0.3,0.3,0.4],[0.4,0.3,0.3],[0.3,0.4,0.3],[0.3,0.5,0.2]]\n",
    "    }\n",
    "    \n",
    "  search = GridSearchCV(pipe, param_grid, cv=10, scoring=\"balanced_accuracy\", n_jobs=-1)\n",
    "  return search"
   ]
  },
  {
   "cell_type": "code",
   "execution_count": 24,
   "id": "54b6f4bd",
   "metadata": {},
   "outputs": [
    {
     "name": "stdout",
     "output_type": "stream",
     "text": [
      "Best Parameters:\n",
      "{'mnb__alpha': 1, 'mnb__class_prior': [0.3, 0.3, 0.4], 'mnb__fit_prior': True}\n",
      "Classification Report:\n",
      "              precision    recall  f1-score   support\n",
      "\n",
      "    negative       0.78      0.79      0.78      1770\n",
      "     neutral       0.21      0.72      0.33       428\n",
      "    positive       0.98      0.74      0.84      4135\n",
      "\n",
      "    accuracy                           0.75      6333\n",
      "   macro avg       0.66      0.75      0.65      6333\n",
      "weighted avg       0.87      0.75      0.79      6333\n",
      "\n",
      "Confusion Matrix:\n"
     ]
    },
    {
     "data": {
      "image/png": "[encoded data removed]",
      "text/plain": [
       "<Figure size 432x288 with 2 Axes>"
      ]
     },
     "metadata": {
      "needs_background": "light"
     },
     "output_type": "display_data"
    }
   ],
   "source": [
    "model_uni_bi_sw_smote = train_evaluate((1, 2), X_train_sw, X_test_sw, y_train_sw, y_test_sw, df_result, \"unigrams_bigrams_sw_smote\", metric)"
   ]
  },
  {
   "cell_type": "code",
   "execution_count": 25,
   "id": "dcc2dd8f",
   "metadata": {},
   "outputs": [
    {
     "name": "stdout",
     "output_type": "stream",
     "text": [
      "Added smote:\n",
      "                           f1-score_negative  f1-score_neutral  \\\n",
      "preprocessing                                                    \n",
      "unigrams_bigrams_sw                 0.837905          0.261874   \n",
      "bigrams_sw                          0.833703          0.208505   \n",
      "unigrams_bigrams                    0.818130          0.221402   \n",
      "bigrams                             0.812100          0.195459   \n",
      "unigrams_bigrams_sw_smote           0.784171          0.327292   \n",
      "unigrams_sw                         0.773216          0.310788   \n",
      "unigrams                            0.762650          0.290832   \n",
      "\n",
      "                           f1-score_positive  f1-score_macro_avg  \\\n",
      "preprocessing                                                      \n",
      "unigrams_bigrams_sw                 0.923653            0.674477   \n",
      "bigrams_sw                          0.920158            0.654122   \n",
      "unigrams_bigrams                    0.912403            0.650645   \n",
      "bigrams                             0.902252            0.636604   \n",
      "unigrams_bigrams_sw_smote           0.842120            0.651194   \n",
      "unigrams_sw                         0.839404            0.641136   \n",
      "unigrams                            0.826589            0.626691   \n",
      "\n",
      "                           f1-score_weighted_avg  \n",
      "preprocessing                                     \n",
      "unigrams_bigrams_sw                     0.854963  \n",
      "bigrams_sw                              0.847900  \n",
      "unigrams_bigrams                        0.839355  \n",
      "bigrams                                 0.829289  \n",
      "unigrams_bigrams_sw_smote               0.791130  \n",
      "unigrams_sw                             0.785180  \n",
      "unigrams                                0.772511  \n"
     ]
    }
   ],
   "source": [
    "print(\"Added smote:\")\n",
    "result = pd.concat(df_result, axis=0).set_index(\"preprocessing\").sort_values(by=f\"{metric}_weighted_avg\", ascending=False)\n",
    "print(result)"
   ]
  },
  {
   "cell_type": "markdown",
   "id": "34a603d2",
   "metadata": {},
   "source": [
    "### Sanity Check"
   ]
  },
  {
   "cell_type": "markdown",
   "id": "2bfe595b",
   "metadata": {},
   "source": [
    "Positive review?"
   ]
  },
  {
   "cell_type": "code",
   "execution_count": 26,
   "id": "7b68f08f",
   "metadata": {},
   "outputs": [
    {
     "data": {
      "text/plain": [
       "array(['positive'], dtype='<U8')"
      ]
     },
     "execution_count": 26,
     "metadata": {},
     "output_type": "execute_result"
    }
   ],
   "source": [
    "model_uni_bi_sw.predict([\"The food is great! Especially the unagi!\"])"
   ]
  },
  {
   "cell_type": "markdown",
   "id": "e351b0a3",
   "metadata": {},
   "source": [
    "Negative review?"
   ]
  },
  {
   "cell_type": "code",
   "execution_count": 27,
   "id": "cc1d4546",
   "metadata": {},
   "outputs": [
    {
     "data": {
      "text/plain": [
       "array(['negative'], dtype='<U8')"
      ]
     },
     "execution_count": 27,
     "metadata": {},
     "output_type": "execute_result"
    }
   ],
   "source": [
    "model_uni_bi_sw.predict([\"The service sucks! I will never come back again!\"])"
   ]
  },
  {
   "cell_type": "markdown",
   "id": "c87a9d5d",
   "metadata": {},
   "source": [
    "Neutral review?"
   ]
  },
  {
   "cell_type": "code",
   "execution_count": 30,
   "id": "9b48cffc",
   "metadata": {},
   "outputs": [
    {
     "data": {
      "text/plain": [
       "array(['neutral'], dtype='<U8')"
      ]
     },
     "execution_count": 30,
     "metadata": {},
     "output_type": "execute_result"
    }
   ],
   "source": [
    "model_uni_bi_sw.predict([\"The food is decent but the price is a bit high.\"])"
   ]
  },
  {
   "cell_type": "markdown",
   "id": "6e5bd434",
   "metadata": {},
   "source": [
    "Sarcastic review?"
   ]
  },
  {
   "cell_type": "code",
   "execution_count": 31,
   "id": "491c416b",
   "metadata": {},
   "outputs": [
    {
     "data": {
      "text/plain": [
       "array(['positive'], dtype='<U8')"
      ]
     },
     "execution_count": 31,
     "metadata": {},
     "output_type": "execute_result"
    }
   ],
   "source": [
    "model_uni_bi_sw.predict([\"The food is so good that I think you need next level of taste buds to appreciate it.\"])"
   ]
  },
  {
   "cell_type": "markdown",
   "id": "42e3e84d",
   "metadata": {},
   "source": [
    "Spam review?"
   ]
  },
  {
   "cell_type": "code",
   "execution_count": 32,
   "id": "5fbed86b",
   "metadata": {},
   "outputs": [
    {
     "data": {
      "text/plain": [
       "array(['negative'], dtype='<U8')"
      ]
     },
     "execution_count": 32,
     "metadata": {},
     "output_type": "execute_result"
    }
   ],
   "source": [
    "model_uni_bi_sw.predict([\"Personal loan with low interest - call 0123456789.\"])"
   ]
  },
  {
   "cell_type": "code",
   "execution_count": 33,
   "id": "218b09b0",
   "metadata": {},
   "outputs": [
    {
     "data": {
      "text/plain": [
       "array(['negative'], dtype='<U8')"
      ]
     },
     "execution_count": 33,
     "metadata": {},
     "output_type": "execute_result"
    }
   ],
   "source": [
    "model_uni_bi_sw.predict([\"Personal loan with quick approval - call 0123456789.\"])"
   ]
  },
  {
   "cell_type": "markdown",
   "id": "96fac681",
   "metadata": {},
   "source": [
    "Random text?"
   ]
  },
  {
   "cell_type": "code",
   "execution_count": 34,
   "id": "14b89ba5",
   "metadata": {},
   "outputs": [
    {
     "data": {
      "text/plain": [
       "array(['neutral'], dtype='<U8')"
      ]
     },
     "execution_count": 34,
     "metadata": {},
     "output_type": "execute_result"
    }
   ],
   "source": [
    "model_uni_bi_sw.predict([\"Market is bullish.\"])"
   ]
  },
  {
   "cell_type": "code",
   "execution_count": 35,
   "id": "597e9802",
   "metadata": {},
   "outputs": [
    {
     "data": {
      "text/plain": [
       "array(['negative'], dtype='<U8')"
      ]
     },
     "execution_count": 35,
     "metadata": {},
     "output_type": "execute_result"
    }
   ],
   "source": [
    "model_uni_bi_sw.predict([\"Market is bullish. Forgot what's the next part of the sentence already.\"])"
   ]
  },
  {
   "cell_type": "markdown",
   "id": "130232b6",
   "metadata": {},
   "source": [
    "Emoji?"
   ]
  },
  {
   "cell_type": "code",
   "execution_count": 36,
   "id": "a8ab40c7",
   "metadata": {},
   "outputs": [
    {
     "data": {
      "text/plain": [
       "array(['neutral'], dtype='<U8')"
      ]
     },
     "execution_count": 36,
     "metadata": {},
     "output_type": "execute_result"
    }
   ],
   "source": [
    "model_uni_bi_sw.predict([\"🙂🙂🙂\"])"
   ]
  },
  {
   "cell_type": "code",
   "execution_count": 37,
   "id": "be174e46",
   "metadata": {},
   "outputs": [
    {
     "data": {
      "text/plain": [
       "array(['neutral'], dtype='<U8')"
      ]
     },
     "execution_count": 37,
     "metadata": {},
     "output_type": "execute_result"
    }
   ],
   "source": [
    "model_uni_bi_sw.predict([\"🤬🤬🤬\"])"
   ]
  },
  {
   "cell_type": "code",
   "execution_count": 38,
   "id": "2985b4ba",
   "metadata": {},
   "outputs": [
    {
     "data": {
      "text/plain": [
       "array(['neutral'], dtype='<U8')"
      ]
     },
     "execution_count": 38,
     "metadata": {},
     "output_type": "execute_result"
    }
   ],
   "source": [
    "model_uni_bi_sw.predict([\"The atmosphere is not bad.\"])"
   ]
  },
  {
   "cell_type": "code",
   "execution_count": 39,
   "id": "f4af1a73",
   "metadata": {},
   "outputs": [
    {
     "data": {
      "text/plain": [
       "array(['negative'], dtype='<U8')"
      ]
     },
     "execution_count": 39,
     "metadata": {},
     "output_type": "execute_result"
    }
   ],
   "source": [
    "model_uni_bi_sw.predict([\"The service is not nice.\"])"
   ]
  },
  {
   "cell_type": "code",
   "execution_count": 40,
   "id": "cd6e05d7",
   "metadata": {},
   "outputs": [
    {
     "data": {
      "text/plain": [
       "array(['negative'], dtype='<U8')"
      ]
     },
     "execution_count": 40,
     "metadata": {},
     "output_type": "execute_result"
    }
   ],
   "source": [
    "model_uni_bi_sw.predict([\"The food is great but the service is lousy.\"])"
   ]
  },
  {
   "cell_type": "code",
   "execution_count": null,
   "id": "361d9f9e",
   "metadata": {},
   "outputs": [],
   "source": []
  }
 ],
 "metadata": {
  "kernelspec": {
   "display_name": "Python 3 (ipykernel)",
   "language": "python",
   "name": "python3"
  },
  "language_info": {
   "codemirror_mode": {
    "name": "ipython",
    "version": 3
   },
   "file_extension": ".py",
   "mimetype": "text/x-python",
   "name": "python",
   "nbconvert_exporter": "python",
   "pygments_lexer": "ipython3",
   "version": "3.8.8"
  }
 },
 "nbformat": 4,
 "nbformat_minor": 5
}
