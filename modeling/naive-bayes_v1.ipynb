{
 "cells": [
  {
   "cell_type": "markdown",
   "id": "603aa6b4",
   "metadata": {},
   "source": [
    "# Multinomial Naive Bayes"
   ]
  },
  {
   "cell_type": "code",
   "execution_count": 35,
   "id": "a2778a61",
   "metadata": {},
   "outputs": [],
   "source": [
    "import pandas as pd\n",
    "\n",
    "from utils.data import load_file\n",
    "from utils.metrics import evaluate\n",
    "\n",
    "from sklearn.naive_bayes import MultinomialNB"
   ]
  },
  {
   "cell_type": "code",
   "execution_count": 6,
   "id": "aa3a6384",
   "metadata": {},
   "outputs": [],
   "source": [
    "y_train = load_file(\"y_train.pickle\")\n",
    "y_test = load_file(\"y_test.pickle\")\n",
    "X_train_uni = load_file(\"X_train_uni.pickle\")\n",
    "X_test_uni = load_file(\"X_test_uni.pickle\")\n",
    "X_train_uni_sw = load_file(\"X_train_uni_sw.pickle\")\n",
    "X_test_uni_sw = load_file(\"X_test_uni_sw.pickle\")\n",
    "X_train_bi = load_file(\"X_train_bi.pickle\")\n",
    "X_test_bi = load_file(\"X_test_bi.pickle\")\n",
    "X_train_bi_sw = load_file(\"X_train_bi_sw.pickle\")\n",
    "X_test_bi_sw = load_file(\"X_test_bi_sw.pickle\")\n",
    "X_train_uni_bi = load_file(\"X_train_uni_bi.pickle\")\n",
    "X_test_uni_bi = load_file(\"X_test_uni_bi.pickle\")\n",
    "X_train_uni_bi_sw = load_file(\"X_train_uni_bi_sw.pickle\")\n",
    "X_test_uni_bi_sw = load_file(\"X_test_uni_bi_sw.pickle\")"
   ]
  },
  {
   "cell_type": "code",
   "execution_count": 28,
   "id": "d75a92a0",
   "metadata": {},
   "outputs": [
    {
     "name": "stdout",
     "output_type": "stream",
     "text": [
      "(25332,)\n",
      "(6333,)\n"
     ]
    }
   ],
   "source": [
    "print(y_train.shape)\n",
    "print(y_test.shape)"
   ]
  },
  {
   "cell_type": "code",
   "execution_count": 37,
   "id": "75a2661a",
   "metadata": {},
   "outputs": [
    {
     "data": {
      "text/plain": [
       "positive    16781\n",
       "negative     6796\n",
       "neutral      1755\n",
       "Name: label, dtype: int64"
      ]
     },
     "execution_count": 37,
     "metadata": {},
     "output_type": "execute_result"
    }
   ],
   "source": [
    "pd.DataFrame(y_train).label.value_counts()"
   ]
  },
  {
   "cell_type": "code",
   "execution_count": 38,
   "id": "56cb6119",
   "metadata": {},
   "outputs": [
    {
     "data": {
      "text/plain": [
       "positive    4135\n",
       "negative    1770\n",
       "neutral      428\n",
       "Name: label, dtype: int64"
      ]
     },
     "execution_count": 38,
     "metadata": {},
     "output_type": "execute_result"
    }
   ],
   "source": [
    "pd.DataFrame(y_test).label.value_counts()"
   ]
  },
  {
   "cell_type": "code",
   "execution_count": 43,
   "id": "a4803814",
   "metadata": {},
   "outputs": [
    {
     "name": "stdout",
     "output_type": "stream",
     "text": [
      "Imbalanced data in train set:\n",
      "Postive - 66.24\n",
      "Negative - 26.83\n",
      "Neutral - 6.93\n"
     ]
    }
   ],
   "source": [
    "print(\"Imbalanced data in train set:\")\n",
    "positive_percent = round(16781/25332*100,2)\n",
    "negative_percent = round(6796/25332*100,2)\n",
    "neutral_percent = round(1755/25332*100,2)\n",
    "\n",
    "print(f\"Postive - {positive_percent}\")\n",
    "print(f\"Negative - {negative_percent}\")\n",
    "print(f\"Neutral - {neutral_percent}\")"
   ]
  },
  {
   "cell_type": "code",
   "execution_count": 44,
   "id": "00c46204",
   "metadata": {},
   "outputs": [
    {
     "name": "stdout",
     "output_type": "stream",
     "text": [
      "Imbalanced data in test set:\n",
      "Postive - 65.29\n",
      "Negative - 27.95\n",
      "Neutral - 6.76\n"
     ]
    }
   ],
   "source": [
    "print(\"Imbalanced data in test set:\")\n",
    "positive_percent = round(4135/6333*100,2)\n",
    "negative_percent = round(1770/6333*100,2)\n",
    "neutral_percent = round(428/6333*100,2)\n",
    "\n",
    "print(f\"Postive - {positive_percent}\")\n",
    "print(f\"Negative - {negative_percent}\")\n",
    "print(f\"Neutral - {neutral_percent}\")"
   ]
  },
  {
   "cell_type": "markdown",
   "id": "4a51fc80",
   "metadata": {},
   "source": [
    "## Customized Test Cases"
   ]
  },
  {
   "cell_type": "code",
   "execution_count": 61,
   "id": "5cc8af79",
   "metadata": {},
   "outputs": [
    {
     "name": "stdout",
     "output_type": "stream",
     "text": [
      "                             text\n",
      "0   the chicken rice is delicious\n",
      "1         the chicken rice is bad\n",
      "2  the chicken rice taste average\n"
     ]
    },
    {
     "ename": "NotFittedError",
     "evalue": "The TF-IDF vectorizer is not fitted",
     "output_type": "error",
     "traceback": [
      "\u001b[1;31m---------------------------------------------------------------------------\u001b[0m",
      "\u001b[1;31mNotFittedError\u001b[0m                            Traceback (most recent call last)",
      "Input \u001b[1;32mIn [61]\u001b[0m, in \u001b[0;36m<cell line: 14>\u001b[1;34m()\u001b[0m\n\u001b[0;32m     11\u001b[0m \u001b[38;5;28mprint\u001b[39m(test_data)\n\u001b[0;32m     13\u001b[0m tfidf \u001b[38;5;241m=\u001b[39m TfidfVectorizer(ngram_range\u001b[38;5;241m=\u001b[39m(\u001b[38;5;241m1\u001b[39m, \u001b[38;5;241m1\u001b[39m))\n\u001b[1;32m---> 14\u001b[0m X_test_customized \u001b[38;5;241m=\u001b[39m \u001b[43mtfidf\u001b[49m\u001b[38;5;241;43m.\u001b[39;49m\u001b[43mtransform\u001b[49m\u001b[43m(\u001b[49m\u001b[43mtest_data\u001b[49m\u001b[43m[\u001b[49m\u001b[38;5;124;43m\"\u001b[39;49m\u001b[38;5;124;43mtext\u001b[39;49m\u001b[38;5;124;43m\"\u001b[39;49m\u001b[43m]\u001b[49m\u001b[43m)\u001b[49m\n\u001b[0;32m     16\u001b[0m \u001b[38;5;28mprint\u001b[39m(X_test_customized\u001b[38;5;241m.\u001b[39mshape)\n",
      "File \u001b[1;32m~\\anaconda3\\lib\\site-packages\\sklearn\\feature_extraction\\text.py:2099\u001b[0m, in \u001b[0;36mTfidfVectorizer.transform\u001b[1;34m(self, raw_documents)\u001b[0m\n\u001b[0;32m   2083\u001b[0m \u001b[38;5;28;01mdef\u001b[39;00m \u001b[38;5;21mtransform\u001b[39m(\u001b[38;5;28mself\u001b[39m, raw_documents):\n\u001b[0;32m   2084\u001b[0m     \u001b[38;5;124;03m\"\"\"Transform documents to document-term matrix.\u001b[39;00m\n\u001b[0;32m   2085\u001b[0m \n\u001b[0;32m   2086\u001b[0m \u001b[38;5;124;03m    Uses the vocabulary and document frequencies (df) learned by fit (or\u001b[39;00m\n\u001b[1;32m   (...)\u001b[0m\n\u001b[0;32m   2097\u001b[0m \u001b[38;5;124;03m        Tf-idf-weighted document-term matrix.\u001b[39;00m\n\u001b[0;32m   2098\u001b[0m \u001b[38;5;124;03m    \"\"\"\u001b[39;00m\n\u001b[1;32m-> 2099\u001b[0m     \u001b[43mcheck_is_fitted\u001b[49m\u001b[43m(\u001b[49m\u001b[38;5;28;43mself\u001b[39;49m\u001b[43m,\u001b[49m\u001b[43m \u001b[49m\u001b[43mmsg\u001b[49m\u001b[38;5;241;43m=\u001b[39;49m\u001b[38;5;124;43m\"\u001b[39;49m\u001b[38;5;124;43mThe TF-IDF vectorizer is not fitted\u001b[39;49m\u001b[38;5;124;43m\"\u001b[39;49m\u001b[43m)\u001b[49m\n\u001b[0;32m   2101\u001b[0m     X \u001b[38;5;241m=\u001b[39m \u001b[38;5;28msuper\u001b[39m()\u001b[38;5;241m.\u001b[39mtransform(raw_documents)\n\u001b[0;32m   2102\u001b[0m     \u001b[38;5;28;01mreturn\u001b[39;00m \u001b[38;5;28mself\u001b[39m\u001b[38;5;241m.\u001b[39m_tfidf\u001b[38;5;241m.\u001b[39mtransform(X, copy\u001b[38;5;241m=\u001b[39m\u001b[38;5;28;01mFalse\u001b[39;00m)\n",
      "File \u001b[1;32m~\\anaconda3\\lib\\site-packages\\sklearn\\utils\\validation.py:1222\u001b[0m, in \u001b[0;36mcheck_is_fitted\u001b[1;34m(estimator, attributes, msg, all_or_any)\u001b[0m\n\u001b[0;32m   1217\u001b[0m     fitted \u001b[38;5;241m=\u001b[39m [\n\u001b[0;32m   1218\u001b[0m         v \u001b[38;5;28;01mfor\u001b[39;00m v \u001b[38;5;129;01min\u001b[39;00m \u001b[38;5;28mvars\u001b[39m(estimator) \u001b[38;5;28;01mif\u001b[39;00m v\u001b[38;5;241m.\u001b[39mendswith(\u001b[38;5;124m\"\u001b[39m\u001b[38;5;124m_\u001b[39m\u001b[38;5;124m\"\u001b[39m) \u001b[38;5;129;01mand\u001b[39;00m \u001b[38;5;129;01mnot\u001b[39;00m v\u001b[38;5;241m.\u001b[39mstartswith(\u001b[38;5;124m\"\u001b[39m\u001b[38;5;124m__\u001b[39m\u001b[38;5;124m\"\u001b[39m)\n\u001b[0;32m   1219\u001b[0m     ]\n\u001b[0;32m   1221\u001b[0m \u001b[38;5;28;01mif\u001b[39;00m \u001b[38;5;129;01mnot\u001b[39;00m fitted:\n\u001b[1;32m-> 1222\u001b[0m     \u001b[38;5;28;01mraise\u001b[39;00m NotFittedError(msg \u001b[38;5;241m%\u001b[39m {\u001b[38;5;124m\"\u001b[39m\u001b[38;5;124mname\u001b[39m\u001b[38;5;124m\"\u001b[39m: \u001b[38;5;28mtype\u001b[39m(estimator)\u001b[38;5;241m.\u001b[39m\u001b[38;5;18m__name__\u001b[39m})\n",
      "\u001b[1;31mNotFittedError\u001b[0m: The TF-IDF vectorizer is not fitted"
     ]
    }
   ],
   "source": [
    "from sklearn.feature_extraction.text import TfidfVectorizer\n",
    "\n",
    "review_1 = \"the chicken rice is delicious\"\n",
    "review_2 = \"the chicken rice is bad\"\n",
    "review_3 = \"the chicken rice taste average\"\n",
    "\n",
    "test_data = pd.DataFrame(\n",
    "                {\"text\":[review_1, review_2, review_3]}\n",
    "            )\n",
    "\n",
    "print(test_data)\n",
    "\n",
    "tfidf = TfidfVectorizer(ngram_range=(1, 1))\n",
    "X_test_customized = tfidf.transform(test_data[\"text\"])\n",
    "\n",
    "print(X_test_customized.shape)"
   ]
  },
  {
   "cell_type": "markdown",
   "id": "7ce95726",
   "metadata": {},
   "source": [
    "## Comparison of MultinomimalNB withdifferent preprocessing steps"
   ]
  },
  {
   "cell_type": "markdown",
   "id": "ff6b68f7",
   "metadata": {},
   "source": [
    "##### Unigrams"
   ]
  },
  {
   "cell_type": "code",
   "execution_count": 10,
   "id": "c0f149ba",
   "metadata": {},
   "outputs": [
    {
     "name": "stdout",
     "output_type": "stream",
     "text": [
      "(25332, 33634)\n",
      "(6333, 33634)\n"
     ]
    }
   ],
   "source": [
    "print(X_train_uni.shape)\n",
    "print(X_test_uni.shape)"
   ]
  },
  {
   "cell_type": "code",
   "execution_count": 45,
   "id": "a428522d",
   "metadata": {},
   "outputs": [
    {
     "data": {
      "text/plain": [
       "MultinomialNB()"
      ]
     },
     "execution_count": 45,
     "metadata": {},
     "output_type": "execute_result"
    }
   ],
   "source": [
    "model_uni = MultinomialNB()\n",
    "model_uni.fit(X_train_uni, y_train)"
   ]
  },
  {
   "cell_type": "code",
   "execution_count": 50,
   "id": "b9f90600",
   "metadata": {},
   "outputs": [
    {
     "name": "stdout",
     "output_type": "stream",
     "text": [
      "Classification Report:\n",
      "              precision    recall  f1-score   support\n",
      "\n",
      "    negative       0.92      0.64      0.76      1770\n",
      "     neutral       0.00      0.00      0.00       428\n",
      "    positive       0.80      0.99      0.88      4135\n",
      "\n",
      "    accuracy                           0.82      6333\n",
      "   macro avg       0.57      0.54      0.55      6333\n",
      "weighted avg       0.78      0.82      0.79      6333\n",
      "\n",
      "Confusion Matrix:\n"
     ]
    },
    {
     "name": "stderr",
     "output_type": "stream",
     "text": [
      "C:\\Users\\ching\\anaconda3\\lib\\site-packages\\sklearn\\metrics\\_classification.py:1318: UndefinedMetricWarning: Precision and F-score are ill-defined and being set to 0.0 in labels with no predicted samples. Use `zero_division` parameter to control this behavior.\n",
      "  _warn_prf(average, modifier, msg_start, len(result))\n",
      "C:\\Users\\ching\\anaconda3\\lib\\site-packages\\sklearn\\metrics\\_classification.py:1318: UndefinedMetricWarning: Precision and F-score are ill-defined and being set to 0.0 in labels with no predicted samples. Use `zero_division` parameter to control this behavior.\n",
      "  _warn_prf(average, modifier, msg_start, len(result))\n",
      "C:\\Users\\ching\\anaconda3\\lib\\site-packages\\sklearn\\metrics\\_classification.py:1318: UndefinedMetricWarning: Precision and F-score are ill-defined and being set to 0.0 in labels with no predicted samples. Use `zero_division` parameter to control this behavior.\n",
      "  _warn_prf(average, modifier, msg_start, len(result))\n"
     ]
    },
    {
     "data": {
      "image/png": "[encoded data removed]",
      "text/plain": [
       "<Figure size 432x288 with 2 Axes>"
      ]
     },
     "metadata": {
      "needs_background": "light"
     },
     "output_type": "display_data"
    }
   ],
   "source": [
    "y_pred_uni = model_uni.predict(X_test_uni)\n",
    "evaluate(y_pred_uni)"
   ]
  },
  {
   "cell_type": "markdown",
   "id": "9cff6165",
   "metadata": {},
   "source": [
    "##### Unigrams + Stop Words"
   ]
  },
  {
   "cell_type": "code",
   "execution_count": 11,
   "id": "0372d143",
   "metadata": {},
   "outputs": [
    {
     "name": "stdout",
     "output_type": "stream",
     "text": [
      "(25332, 33926)\n",
      "(6333, 33926)\n"
     ]
    }
   ],
   "source": [
    "print(X_train_uni_sw.shape)\n",
    "print(X_test_uni_sw.shape)"
   ]
  },
  {
   "cell_type": "code",
   "execution_count": 51,
   "id": "33c51e78",
   "metadata": {},
   "outputs": [
    {
     "data": {
      "text/plain": [
       "MultinomialNB()"
      ]
     },
     "execution_count": 51,
     "metadata": {},
     "output_type": "execute_result"
    }
   ],
   "source": [
    "model_uni_sw = MultinomialNB()\n",
    "model_uni_sw.fit(X_train_uni_sw, y_train)"
   ]
  },
  {
   "cell_type": "code",
   "execution_count": 52,
   "id": "b6ba6eef",
   "metadata": {},
   "outputs": [
    {
     "name": "stdout",
     "output_type": "stream",
     "text": [
      "Classification Report:\n",
      "              precision    recall  f1-score   support\n",
      "\n",
      "    negative       0.94      0.59      0.73      1770\n",
      "     neutral       0.00      0.00      0.00       428\n",
      "    positive       0.79      0.99      0.88      4135\n",
      "\n",
      "    accuracy                           0.81      6333\n",
      "   macro avg       0.58      0.53      0.53      6333\n",
      "weighted avg       0.78      0.81      0.78      6333\n",
      "\n",
      "Confusion Matrix:\n"
     ]
    },
    {
     "name": "stderr",
     "output_type": "stream",
     "text": [
      "C:\\Users\\ching\\anaconda3\\lib\\site-packages\\sklearn\\metrics\\_classification.py:1318: UndefinedMetricWarning: Precision and F-score are ill-defined and being set to 0.0 in labels with no predicted samples. Use `zero_division` parameter to control this behavior.\n",
      "  _warn_prf(average, modifier, msg_start, len(result))\n",
      "C:\\Users\\ching\\anaconda3\\lib\\site-packages\\sklearn\\metrics\\_classification.py:1318: UndefinedMetricWarning: Precision and F-score are ill-defined and being set to 0.0 in labels with no predicted samples. Use `zero_division` parameter to control this behavior.\n",
      "  _warn_prf(average, modifier, msg_start, len(result))\n",
      "C:\\Users\\ching\\anaconda3\\lib\\site-packages\\sklearn\\metrics\\_classification.py:1318: UndefinedMetricWarning: Precision and F-score are ill-defined and being set to 0.0 in labels with no predicted samples. Use `zero_division` parameter to control this behavior.\n",
      "  _warn_prf(average, modifier, msg_start, len(result))\n"
     ]
    },
    {
     "data": {
      "image/png": "[encoded data removed]",
      "text/plain": [
       "<Figure size 432x288 with 2 Axes>"
      ]
     },
     "metadata": {
      "needs_background": "light"
     },
     "output_type": "display_data"
    }
   ],
   "source": [
    "y_pred_uni_sw = model_uni_sw.predict(X_test_uni_sw)\n",
    "evaluate(y_pred_uni_sw)"
   ]
  },
  {
   "cell_type": "markdown",
   "id": "63f5ebb3",
   "metadata": {},
   "source": [
    "##### Bigrams"
   ]
  },
  {
   "cell_type": "code",
   "execution_count": 12,
   "id": "3965b195",
   "metadata": {},
   "outputs": [
    {
     "name": "stdout",
     "output_type": "stream",
     "text": [
      "(25332, 613031)\n",
      "(6333, 613031)\n"
     ]
    }
   ],
   "source": [
    "print(X_train_bi.shape)\n",
    "print(X_test_bi.shape)"
   ]
  },
  {
   "cell_type": "code",
   "execution_count": 53,
   "id": "d834d63f",
   "metadata": {},
   "outputs": [
    {
     "data": {
      "text/plain": [
       "MultinomialNB()"
      ]
     },
     "execution_count": 53,
     "metadata": {},
     "output_type": "execute_result"
    }
   ],
   "source": [
    "model_bi = MultinomialNB()\n",
    "model_bi.fit(X_train_bi, y_train)"
   ]
  },
  {
   "cell_type": "code",
   "execution_count": 54,
   "id": "fc44c5c8",
   "metadata": {},
   "outputs": [
    {
     "name": "stdout",
     "output_type": "stream",
     "text": [
      "Classification Report:\n",
      "              precision    recall  f1-score   support\n",
      "\n",
      "    negative       0.99      0.20      0.33      1770\n",
      "     neutral       0.00      0.00      0.00       428\n",
      "    positive       0.69      1.00      0.82      4135\n",
      "\n",
      "    accuracy                           0.71      6333\n",
      "   macro avg       0.56      0.40      0.38      6333\n",
      "weighted avg       0.73      0.71      0.63      6333\n",
      "\n",
      "Confusion Matrix:\n"
     ]
    },
    {
     "name": "stderr",
     "output_type": "stream",
     "text": [
      "C:\\Users\\ching\\anaconda3\\lib\\site-packages\\sklearn\\metrics\\_classification.py:1318: UndefinedMetricWarning: Precision and F-score are ill-defined and being set to 0.0 in labels with no predicted samples. Use `zero_division` parameter to control this behavior.\n",
      "  _warn_prf(average, modifier, msg_start, len(result))\n",
      "C:\\Users\\ching\\anaconda3\\lib\\site-packages\\sklearn\\metrics\\_classification.py:1318: UndefinedMetricWarning: Precision and F-score are ill-defined and being set to 0.0 in labels with no predicted samples. Use `zero_division` parameter to control this behavior.\n",
      "  _warn_prf(average, modifier, msg_start, len(result))\n",
      "C:\\Users\\ching\\anaconda3\\lib\\site-packages\\sklearn\\metrics\\_classification.py:1318: UndefinedMetricWarning: Precision and F-score are ill-defined and being set to 0.0 in labels with no predicted samples. Use `zero_division` parameter to control this behavior.\n",
      "  _warn_prf(average, modifier, msg_start, len(result))\n"
     ]
    },
    {
     "data": {
      "image/png": "[encoded data removed]",
      "text/plain": [
       "<Figure size 432x288 with 2 Axes>"
      ]
     },
     "metadata": {
      "needs_background": "light"
     },
     "output_type": "display_data"
    }
   ],
   "source": [
    "y_pred_bi = model_bi.predict(X_test_bi)\n",
    "evaluate(y_pred_bi)"
   ]
  },
  {
   "cell_type": "markdown",
   "id": "99ee3300",
   "metadata": {},
   "source": [
    "##### Bigrams + Stop Words"
   ]
  },
  {
   "cell_type": "code",
   "execution_count": 13,
   "id": "f2778ef2",
   "metadata": {},
   "outputs": [
    {
     "name": "stdout",
     "output_type": "stream",
     "text": [
      "(25332, 549842)\n",
      "(6333, 549842)\n"
     ]
    }
   ],
   "source": [
    "print(X_train_bi_sw.shape)\n",
    "print(X_test_bi_sw.shape)"
   ]
  },
  {
   "cell_type": "code",
   "execution_count": 62,
   "id": "76f445e8",
   "metadata": {},
   "outputs": [
    {
     "data": {
      "text/plain": [
       "MultinomialNB()"
      ]
     },
     "execution_count": 62,
     "metadata": {},
     "output_type": "execute_result"
    }
   ],
   "source": [
    "model_bi_sw = MultinomialNB()\n",
    "model_bi_sw.fit(X_train_bi_sw, y_train)"
   ]
  },
  {
   "cell_type": "code",
   "execution_count": 63,
   "id": "abb02d6e",
   "metadata": {},
   "outputs": [
    {
     "name": "stdout",
     "output_type": "stream",
     "text": [
      "Classification Report:\n",
      "              precision    recall  f1-score   support\n",
      "\n",
      "    negative       0.99      0.26      0.42      1770\n",
      "     neutral       0.00      0.00      0.00       428\n",
      "    positive       0.71      1.00      0.83      4135\n",
      "\n",
      "    accuracy                           0.73      6333\n",
      "   macro avg       0.57      0.42      0.42      6333\n",
      "weighted avg       0.74      0.73      0.66      6333\n",
      "\n",
      "Confusion Matrix:\n"
     ]
    },
    {
     "name": "stderr",
     "output_type": "stream",
     "text": [
      "C:\\Users\\ching\\anaconda3\\lib\\site-packages\\sklearn\\metrics\\_classification.py:1318: UndefinedMetricWarning: Precision and F-score are ill-defined and being set to 0.0 in labels with no predicted samples. Use `zero_division` parameter to control this behavior.\n",
      "  _warn_prf(average, modifier, msg_start, len(result))\n",
      "C:\\Users\\ching\\anaconda3\\lib\\site-packages\\sklearn\\metrics\\_classification.py:1318: UndefinedMetricWarning: Precision and F-score are ill-defined and being set to 0.0 in labels with no predicted samples. Use `zero_division` parameter to control this behavior.\n",
      "  _warn_prf(average, modifier, msg_start, len(result))\n",
      "C:\\Users\\ching\\anaconda3\\lib\\site-packages\\sklearn\\metrics\\_classification.py:1318: UndefinedMetricWarning: Precision and F-score are ill-defined and being set to 0.0 in labels with no predicted samples. Use `zero_division` parameter to control this behavior.\n",
      "  _warn_prf(average, modifier, msg_start, len(result))\n"
     ]
    },
    {
     "data": {
      "image/png": "[encoded data removed]",
      "text/plain": [
       "<Figure size 432x288 with 2 Axes>"
      ]
     },
     "metadata": {
      "needs_background": "light"
     },
     "output_type": "display_data"
    }
   ],
   "source": [
    "y_pred_bi_sw = model_bi_sw.predict(X_test_bi_sw)\n",
    "evaluate(y_pred_bi_sw)"
   ]
  },
  {
   "cell_type": "markdown",
   "id": "9c1586f2",
   "metadata": {},
   "source": [
    "##### Unigrams + Bigrams"
   ]
  },
  {
   "cell_type": "code",
   "execution_count": 15,
   "id": "7e3bb46b",
   "metadata": {},
   "outputs": [
    {
     "name": "stdout",
     "output_type": "stream",
     "text": [
      "(25332, 646665)\n",
      "(6333, 646665)\n"
     ]
    }
   ],
   "source": [
    "print(X_train_uni_bi.shape)\n",
    "print(X_test_uni_bi.shape)"
   ]
  },
  {
   "cell_type": "code",
   "execution_count": 65,
   "id": "98ee6df4",
   "metadata": {},
   "outputs": [
    {
     "data": {
      "text/plain": [
       "MultinomialNB()"
      ]
     },
     "execution_count": 65,
     "metadata": {},
     "output_type": "execute_result"
    }
   ],
   "source": [
    "model_uni_bi = MultinomialNB()\n",
    "model_uni_bi.fit(X_train_uni_bi, y_train)"
   ]
  },
  {
   "cell_type": "code",
   "execution_count": 66,
   "id": "29e54afb",
   "metadata": {},
   "outputs": [
    {
     "name": "stdout",
     "output_type": "stream",
     "text": [
      "Classification Report:\n",
      "              precision    recall  f1-score   support\n",
      "\n",
      "    negative       0.99      0.24      0.38      1770\n",
      "     neutral       0.00      0.00      0.00       428\n",
      "    positive       0.70      1.00      0.82      4135\n",
      "\n",
      "    accuracy                           0.72      6333\n",
      "   macro avg       0.56      0.41      0.40      6333\n",
      "weighted avg       0.73      0.72      0.64      6333\n",
      "\n",
      "Confusion Matrix:\n"
     ]
    },
    {
     "name": "stderr",
     "output_type": "stream",
     "text": [
      "C:\\Users\\ching\\anaconda3\\lib\\site-packages\\sklearn\\metrics\\_classification.py:1318: UndefinedMetricWarning: Precision and F-score are ill-defined and being set to 0.0 in labels with no predicted samples. Use `zero_division` parameter to control this behavior.\n",
      "  _warn_prf(average, modifier, msg_start, len(result))\n",
      "C:\\Users\\ching\\anaconda3\\lib\\site-packages\\sklearn\\metrics\\_classification.py:1318: UndefinedMetricWarning: Precision and F-score are ill-defined and being set to 0.0 in labels with no predicted samples. Use `zero_division` parameter to control this behavior.\n",
      "  _warn_prf(average, modifier, msg_start, len(result))\n",
      "C:\\Users\\ching\\anaconda3\\lib\\site-packages\\sklearn\\metrics\\_classification.py:1318: UndefinedMetricWarning: Precision and F-score are ill-defined and being set to 0.0 in labels with no predicted samples. Use `zero_division` parameter to control this behavior.\n",
      "  _warn_prf(average, modifier, msg_start, len(result))\n"
     ]
    },
    {
     "data": {
      "image/png": "[encoded data removed]",
      "text/plain": [
       "<Figure size 432x288 with 2 Axes>"
      ]
     },
     "metadata": {
      "needs_background": "light"
     },
     "output_type": "display_data"
    }
   ],
   "source": [
    "y_pred_uni_bi = model_uni_bi.predict(X_test_uni_bi)\n",
    "evaluate(y_pred_uni_bi)"
   ]
  },
  {
   "cell_type": "markdown",
   "id": "79ee6859",
   "metadata": {},
   "source": [
    "##### Unigrams + Bigrams + Stop Words"
   ]
  },
  {
   "cell_type": "code",
   "execution_count": 16,
   "id": "86862eb1",
   "metadata": {},
   "outputs": [
    {
     "name": "stdout",
     "output_type": "stream",
     "text": [
      "(25332, 583768)\n",
      "(6333, 583768)\n"
     ]
    }
   ],
   "source": [
    "print(X_train_uni_bi_sw.shape)\n",
    "print(X_test_uni_bi_sw.shape)"
   ]
  },
  {
   "cell_type": "code",
   "execution_count": 67,
   "id": "093b84a5",
   "metadata": {},
   "outputs": [
    {
     "data": {
      "text/plain": [
       "MultinomialNB()"
      ]
     },
     "execution_count": 67,
     "metadata": {},
     "output_type": "execute_result"
    }
   ],
   "source": [
    "model_uni_bi_sw = MultinomialNB()\n",
    "model_uni_bi_sw.fit(X_train_uni_bi_sw, y_train)"
   ]
  },
  {
   "cell_type": "code",
   "execution_count": 68,
   "id": "bb825bd9",
   "metadata": {},
   "outputs": [
    {
     "name": "stdout",
     "output_type": "stream",
     "text": [
      "Classification Report:\n",
      "              precision    recall  f1-score   support\n",
      "\n",
      "    negative       1.00      0.17      0.30      1770\n",
      "     neutral       0.00      0.00      0.00       428\n",
      "    positive       0.69      1.00      0.81      4135\n",
      "\n",
      "    accuracy                           0.70      6333\n",
      "   macro avg       0.56      0.39      0.37      6333\n",
      "weighted avg       0.73      0.70      0.61      6333\n",
      "\n",
      "Confusion Matrix:\n"
     ]
    },
    {
     "name": "stderr",
     "output_type": "stream",
     "text": [
      "C:\\Users\\ching\\anaconda3\\lib\\site-packages\\sklearn\\metrics\\_classification.py:1318: UndefinedMetricWarning: Precision and F-score are ill-defined and being set to 0.0 in labels with no predicted samples. Use `zero_division` parameter to control this behavior.\n",
      "  _warn_prf(average, modifier, msg_start, len(result))\n",
      "C:\\Users\\ching\\anaconda3\\lib\\site-packages\\sklearn\\metrics\\_classification.py:1318: UndefinedMetricWarning: Precision and F-score are ill-defined and being set to 0.0 in labels with no predicted samples. Use `zero_division` parameter to control this behavior.\n",
      "  _warn_prf(average, modifier, msg_start, len(result))\n",
      "C:\\Users\\ching\\anaconda3\\lib\\site-packages\\sklearn\\metrics\\_classification.py:1318: UndefinedMetricWarning: Precision and F-score are ill-defined and being set to 0.0 in labels with no predicted samples. Use `zero_division` parameter to control this behavior.\n",
      "  _warn_prf(average, modifier, msg_start, len(result))\n"
     ]
    },
    {
     "data": {
      "image/png": "[encoded data removed]",
      "text/plain": [
       "<Figure size 432x288 with 2 Axes>"
      ]
     },
     "metadata": {
      "needs_background": "light"
     },
     "output_type": "display_data"
    }
   ],
   "source": [
    "y_pred_uni_bi_sw = model_uni_bi_sw.predict(X_test_uni_bi_sw)\n",
    "evaluate(y_pred_uni_bi_sw)"
   ]
  },
  {
   "cell_type": "code",
   "execution_count": null,
   "id": "c36eca3d",
   "metadata": {},
   "outputs": [],
   "source": []
  }
 ],
 "metadata": {
  "kernelspec": {
   "display_name": "Python 3 (ipykernel)",
   "language": "python",
   "name": "python3"
  },
  "language_info": {
   "codemirror_mode": {
    "name": "ipython",
    "version": 3
   },
   "file_extension": ".py",
   "mimetype": "text/x-python",
   "name": "python",
   "nbconvert_exporter": "python",
   "pygments_lexer": "ipython3",
   "version": "3.8.8"
  }
 },
 "nbformat": 4,
 "nbformat_minor": 5
}
